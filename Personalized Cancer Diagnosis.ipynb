{
 "cells": [
  {
   "cell_type": "markdown",
   "metadata": {},
   "source": [
    "<p style=\"font-size:34px;text-align:center\"> <b> Personalized Cancer Diagnosis </b></p>"
   ]
  },
  {
   "cell_type": "markdown",
   "metadata": {},
   "source": [
    "<h1>1. Business Problem </h1>"
   ]
  },
  {
   "cell_type": "markdown",
   "metadata": {},
   "source": [
    "<h2>1.1. Description and Details </h2><br>"
   ]
  },
  {
   "cell_type": "markdown",
   "metadata": {},
   "source": [
    "<p> <b>Source</b>: https://www.kaggle.com/c/msk-redefining-cancer-treatment/ </p><br>\n",
    "<p> <b>Data</b>: Memorial Sloan Kettering Cancer Center (MSKCC). Download the training text and training variant data from kaggle.</p><br>\n",
    "<p> <b>My Understanding</b>:</p>\n",
    "<p>  There are various types of genes and for each gene there are variations. So each individual, what gene and variation they have, the individual can be classified in nine categories. And some of these classes lead to some kind of cancer.</p>\n",
    "<p>The workflow is as follows:</p>\n",
    "<p>1. A molecular pathologist selects a list of genetic variations of interest that he/she want to analyze</p>\n",
    "<p>2. The molecular pathologist searches for evidence in the medical literature that is relevant to the genetic variations of interest.</p>\n",
    "<p>3. Finally this molecular pathologist spends huge amount of time analyzing the evidence related to each of the variations to classify them into one of the nine categories.</p>\n",
    "<p></p>\n",
    "<p><b>My Goal</b> is to replace the step 3 with a ML Model. The molecular pathologist will still have to decide which variations are of interest, and also collect the relevant evidence for them. but the last step, which is also the most time consuming will be fully automated.</p>\n",
    "<br>\n",
    "<p><b>Problem statement:</b></p>\n",
    "<p> Classify the given variations/mutations based on evidence from text-based clinical literature</p>"
   ]
  },
  {
   "cell_type": "markdown",
   "metadata": {},
   "source": [
    "<h2>1.2 Business Objectives and Constraints</h2> "
   ]
  },
  {
   "cell_type": "markdown",
   "metadata": {},
   "source": [
    "* Low Latency requirement is not there. (Time is not a constraint)\n",
    "* Interpretation of our decision by doctors is important because it is a question of life and death\n",
    "* Errors can be really costly so our focus should be on least errors\n",
    "* Probabilty of a data point belonging to each class is needed"
   ]
  },
  {
   "cell_type": "markdown",
   "metadata": {},
   "source": [
    "<h1>2. Machine Learning Problem Formulation</h1>\n",
    "<h2>2.1 Data </h2>\n",
    "<h3>2.1.1. Overview</h3>"
   ]
  },
  {
   "cell_type": "markdown",
   "metadata": {},
   "source": [
    "\n",
    "- We have 2 files, one of them contains the information about the genetic mutations and the other about the clinical evidence (text) that pathologists use to classify the genetic mutations\n",
    "- The files have a common field of ID\n",
    "\n",
    "- <p> Data file information:\n",
    "    <ul> \n",
    "        <li> \n",
    "            training_variants (ID, Gene, Variations, Class)\n",
    "        </li>\n",
    "        <li>\n",
    "            training_text (ID, Text)\n",
    "        </li>\n",
    "    </ul>\n",
    "</p>    \n",
    "- Thus we perform the join operation on two data to get all the data at one place"
   ]
  },
  {
   "cell_type": "markdown",
   "metadata": {},
   "source": [
    "<h3>2.1.2. Example Data Points</h3>"
   ]
  },
  {
   "cell_type": "markdown",
   "metadata": {},
   "source": [
    "<h6> Training_Variants</h6>\n",
    "<hr>\n",
    "ID, Gene, Variation, Class<br>\n",
    "6\tCBL\tV430M\t5<br>\n",
    "7\tCBL\tDeletion\t1<br>\n",
    "8\tCBL\tY371H\t4<br>\n",
    "9\tCBL\tC384R\t4<br>\n",
    ".\n",
    "<h6> Training_text </h6>\n",
    "<hr>\n",
    "ID, Text <br>\n",
    "6\tCBL\tV430M\t5\n",
    "7\tCBL\tDeletion\t1\n",
    "8\tCBL\tY371H\t4\n",
    "9\tCBL\tC384R\t4"
   ]
  },
  {
   "cell_type": "markdown",
   "metadata": {},
   "source": [
    "<h2>2.2. Mapping the real-world problem to an ML problem</h2><br>"
   ]
  },
  {
   "cell_type": "markdown",
   "metadata": {},
   "source": [
    "<h3>2.2.1. Type of Machine Learning Problem</h3>\n",
    "<p>\n",
    "        There are nine different classes a genetic mutation (gene and variation) can be classified into => A Multi Class Classfication Problem\n",
    "</p>    "
   ]
  },
  {
   "cell_type": "markdown",
   "metadata": {},
   "source": [
    "<h3>2.2.2. Performance Metric</h3>\n"
   ]
  },
  {
   "cell_type": "markdown",
   "metadata": {},
   "source": [
    "As mentioned on kaggle https://www.kaggle.com/c/msk-redefining-cancer-treatment/overview/evaluation :<br>\n",
    " <b>Metric(s):</b>\n",
    "* Multiclass Log-loss\n",
    "* Confusion Matrix\n",
    "\n",
    "And it is exactly what should be selected, reason being, in Log Loss we use the exact probability for a datapoint i to belong to each class. i.e what is the probability that it belongs to class 1,2,3,4..,9 and then we compute the loss. "
   ]
  },
  {
   "cell_type": "markdown",
   "metadata": {},
   "source": [
    "<h3>2.2.3. Machine Learning Objectives and Constraints</h3>"
   ]
  },
  {
   "cell_type": "markdown",
   "metadata": {},
   "source": [
    "<p><b>Objective:</b> Predict the probability of each data-point belonging to each of the nine classes.<br><br>\n",
    "    <b>Constraints:</b><br></p>   \n",
    "    <ul>\n",
    "    <li>Interpretability</li>\n",
    "    <li>Class probabilities are needed</li>\n",
    "    <li>Penalize the errors in class probabilities => Metric is Log-Loss</li>\n",
    "    <li>No Latency Constraints</li>\n",
    "    </ul>\n",
    " "
   ]
  },
  {
   "cell_type": "markdown",
   "metadata": {},
   "source": [
    "<h2>2.3. Train, CV and Test Datasets</h2>"
   ]
  },
  {
   "cell_type": "markdown",
   "metadata": {},
   "source": [
    "<p>We can observe that there is no temporal, time based feature present in our data. Thus, Split the dataset randomly into three parts train, cross validation and test with 64%, 16% and 20% of data respectively</p>"
   ]
  },
  {
   "cell_type": "markdown",
   "metadata": {},
   "source": [
    "<h1>3. Exploratory Data Analysis</h1>"
   ]
  },
  {
   "cell_type": "code",
   "execution_count": 1,
   "metadata": {},
   "outputs": [
    {
     "name": "stdout",
     "output_type": "stream",
     "text": [
      "Collecting package metadata (current_repodata.json): done\n",
      "Solving environment: done\n",
      "\n",
      "## Package Plan ##\n",
      "\n",
      "  environment location: /opt/anaconda3\n",
      "\n",
      "  added / updated specs:\n",
      "    - mlxtend\n",
      "\n",
      "\n",
      "The following packages will be downloaded:\n",
      "\n",
      "    package                    |            build\n",
      "    ---------------------------|-----------------\n",
      "    conda-4.10.3               |   py38h50d1736_2         3.1 MB  conda-forge\n",
      "    ------------------------------------------------------------\n",
      "                                           Total:         3.1 MB\n",
      "\n",
      "The following packages will be UPDATED:\n",
      "\n",
      "  conda                               4.10.3-py38h50d1736_0 --> 4.10.3-py38h50d1736_2\n",
      "\n",
      "\n",
      "\n",
      "Downloading and Extracting Packages\n",
      "conda-4.10.3         | 3.1 MB    | ##################################### | 100% \n",
      "Preparing transaction: done\n",
      "Verifying transaction: done\n",
      "Executing transaction: done\n",
      "\n",
      "Note: you may need to restart the kernel to use updated packages.\n"
     ]
    }
   ],
   "source": [
    "conda install mlxtend --channel conda-forge"
   ]
  },
  {
   "cell_type": "code",
   "execution_count": 2,
   "metadata": {},
   "outputs": [
    {
     "name": "stdout",
     "output_type": "stream",
     "text": [
      "Collecting package metadata (current_repodata.json): done\n",
      "Solving environment: done\n",
      "\n",
      "## Package Plan ##\n",
      "\n",
      "  environment location: /opt/anaconda3\n",
      "\n",
      "  added / updated specs:\n",
      "    - conda\n",
      "\n",
      "\n",
      "The following packages will be SUPERSEDED by a higher-priority channel:\n",
      "\n",
      "  conda              conda-forge::conda-4.10.3-py38h50d173~ --> pkgs/main::conda-4.10.3-py38hecd8cb5_0\n",
      "\n",
      "\n",
      "Preparing transaction: done\n",
      "Verifying transaction: done\n",
      "Executing transaction: done\n",
      "\n",
      "Note: you may need to restart the kernel to use updated packages.\n"
     ]
    }
   ],
   "source": [
    "conda update -n base -c defaults conda"
   ]
  },
  {
   "cell_type": "code",
   "execution_count": 3,
   "metadata": {},
   "outputs": [
    {
     "name": "stdout",
     "output_type": "stream",
     "text": [
      "Collecting package metadata (current_repodata.json): done\n",
      "Solving environment: done\n",
      "\n",
      "## Package Plan ##\n",
      "\n",
      "  environment location: /opt/anaconda3\n",
      "\n",
      "  added / updated specs:\n",
      "    - imbalanced-learn\n",
      "\n",
      "\n",
      "The following packages will be downloaded:\n",
      "\n",
      "    package                    |            build\n",
      "    ---------------------------|-----------------\n",
      "    imbalanced-learn-0.8.1     |     pyhd8ed1ab_0         110 KB  conda-forge\n",
      "    ------------------------------------------------------------\n",
      "                                           Total:         110 KB\n",
      "\n",
      "The following packages will be UPDATED:\n",
      "\n",
      "  conda              pkgs/main::conda-4.10.3-py38hecd8cb5_0 --> conda-forge::conda-4.10.3-py38h50d1736_2\n",
      "  imbalanced-learn                       0.8.0-pyhd8ed1ab_0 --> 0.8.1-pyhd8ed1ab_0\n",
      "\n",
      "\n",
      "\n",
      "Downloading and Extracting Packages\n",
      "imbalanced-learn-0.8 | 110 KB    | ##################################### | 100% \n",
      "Preparing transaction: done\n",
      "Verifying transaction: done\n",
      "Executing transaction: done\n",
      "\n",
      "Note: you may need to restart the kernel to use updated packages.\n"
     ]
    }
   ],
   "source": [
    "conda install -c conda-forge imbalanced-learn"
   ]
  },
  {
   "cell_type": "code",
   "execution_count": 4,
   "metadata": {},
   "outputs": [
    {
     "name": "stdout",
     "output_type": "stream",
     "text": [
      "Requirement already satisfied: scikit_learn in /opt/anaconda3/lib/python3.8/site-packages (0.24.1)\n",
      "Requirement already satisfied: numpy>=1.13.3 in /opt/anaconda3/lib/python3.8/site-packages (from scikit_learn) (1.20.1)\n",
      "Requirement already satisfied: joblib>=0.11 in /opt/anaconda3/lib/python3.8/site-packages (from scikit_learn) (1.0.1)\n",
      "Requirement already satisfied: scipy>=0.19.1 in /opt/anaconda3/lib/python3.8/site-packages (from scikit_learn) (1.6.2)\n",
      "Requirement already satisfied: threadpoolctl>=2.0.0 in /opt/anaconda3/lib/python3.8/site-packages (from scikit_learn) (2.1.0)\n",
      "Note: you may need to restart the kernel to use updated packages.\n"
     ]
    }
   ],
   "source": [
    "pip install scikit_learn"
   ]
  },
  {
   "cell_type": "code",
   "execution_count": 5,
   "metadata": {},
   "outputs": [],
   "source": [
    "import pandas as p\n",
    "import matplotlib.pyplot as plt\n",
    "import re\n",
    "import time\n",
    "import warnings\n",
    "import numpy as n\n",
    "from nltk.corpus import stopwords\n",
    "from sklearn.decomposition import TruncatedSVD\n",
    "from sklearn.preprocessing import normalize\n",
    "from sklearn.feature_extraction.text import CountVectorizer\n",
    "from sklearn.manifold import TSNE\n",
    "import seaborn as sns\n",
    "from sklearn.neighbors import KNeighborsClassifier\n",
    "from sklearn.metrics import confusion_matrix\n",
    "from sklearn.metrics import accuracy_score, log_loss\n",
    "from sklearn.feature_extraction.text import TfidfVectorizer\n",
    "from sklearn.linear_model import SGDClassifier\n",
    "#from imblearn.over_sampling import SMOTE\n",
    "from collections import Counter\n",
    "from scipy.sparse import hstack\n",
    "from sklearn.multiclass import OneVsRestClassifier\n",
    "from sklearn.svm import SVC\n",
    "from sklearn.model_selection import StratifiedKFold\n",
    "from collections import Counter, defaultdict\n",
    "from sklearn.calibration import CalibratedClassifierCV\n",
    "from sklearn.naive_bayes import MultinomialNB\n",
    "from sklearn.naive_bayes import GaussianNB\n",
    "from sklearn.model_selection import train_test_split\n",
    "from sklearn.model_selection import GridSearchCV\n",
    "import math\n",
    "from sklearn.metrics import normalized_mutual_info_score\n",
    "from sklearn.ensemble import RandomForestClassifier\n",
    "warnings.filterwarnings(\"ignore\")\n",
    "#from mlxtend.classifier import StackingClassifier\n",
    "from sklearn.ensemble import StackingClassifier\n",
    "from sklearn import model_selection\n",
    "from sklearn.linear_model import LogisticRegression"
   ]
  },
  {
   "cell_type": "markdown",
   "metadata": {},
   "source": [
    "<h2>3.1 Reading Data </h2>"
   ]
  },
  {
   "cell_type": "markdown",
   "metadata": {},
   "source": [
    "<h3>3.1.1. Reading Gene and Variation Data</h3>"
   ]
  },
  {
   "cell_type": "markdown",
   "metadata": {},
   "source": [
    "<p> \n",
    "    Training/Training_variants is a comma separated file containing the description of the genetic mutations used for training.<br>\n",
    "    Fields are:\n",
    "    <ul>\n",
    "        <li><b>ID : </b>The id of the row used to link the mutation to the clinical evidence</li>\n",
    "        <li><b>Gene : </b> The gene where the genetic mutation is located</li>\n",
    "        <li><b>Variation : </b>The aminoacid change for this mutations</li>\n",
    "        <li><b>Class : </b>1-9th class this genetic mutation has been classified on</li>\n",
    "    </ul>\n",
    "        "
   ]
  },
  {
   "cell_type": "code",
   "execution_count": 6,
   "metadata": {},
   "outputs": [
    {
     "name": "stdout",
     "output_type": "stream",
     "text": [
      "Training Variants Shape: (3321, 4)\n",
      "Feature names: ['ID' 'Gene' 'Variation' 'Class']\n"
     ]
    },
    {
     "data": {
      "text/html": [
       "<div>\n",
       "<style scoped>\n",
       "    .dataframe tbody tr th:only-of-type {\n",
       "        vertical-align: middle;\n",
       "    }\n",
       "\n",
       "    .dataframe tbody tr th {\n",
       "        vertical-align: top;\n",
       "    }\n",
       "\n",
       "    .dataframe thead th {\n",
       "        text-align: right;\n",
       "    }\n",
       "</style>\n",
       "<table border=\"1\" class=\"dataframe\">\n",
       "  <thead>\n",
       "    <tr style=\"text-align: right;\">\n",
       "      <th></th>\n",
       "      <th>ID</th>\n",
       "      <th>Gene</th>\n",
       "      <th>Variation</th>\n",
       "      <th>Class</th>\n",
       "    </tr>\n",
       "  </thead>\n",
       "  <tbody>\n",
       "    <tr>\n",
       "      <th>0</th>\n",
       "      <td>0</td>\n",
       "      <td>FAM58A</td>\n",
       "      <td>Truncating Mutations</td>\n",
       "      <td>1</td>\n",
       "    </tr>\n",
       "    <tr>\n",
       "      <th>1</th>\n",
       "      <td>1</td>\n",
       "      <td>CBL</td>\n",
       "      <td>W802*</td>\n",
       "      <td>2</td>\n",
       "    </tr>\n",
       "    <tr>\n",
       "      <th>2</th>\n",
       "      <td>2</td>\n",
       "      <td>CBL</td>\n",
       "      <td>Q249E</td>\n",
       "      <td>2</td>\n",
       "    </tr>\n",
       "    <tr>\n",
       "      <th>3</th>\n",
       "      <td>3</td>\n",
       "      <td>CBL</td>\n",
       "      <td>N454D</td>\n",
       "      <td>3</td>\n",
       "    </tr>\n",
       "    <tr>\n",
       "      <th>4</th>\n",
       "      <td>4</td>\n",
       "      <td>CBL</td>\n",
       "      <td>L399V</td>\n",
       "      <td>4</td>\n",
       "    </tr>\n",
       "    <tr>\n",
       "      <th>5</th>\n",
       "      <td>5</td>\n",
       "      <td>CBL</td>\n",
       "      <td>V391I</td>\n",
       "      <td>4</td>\n",
       "    </tr>\n",
       "    <tr>\n",
       "      <th>6</th>\n",
       "      <td>6</td>\n",
       "      <td>CBL</td>\n",
       "      <td>V430M</td>\n",
       "      <td>5</td>\n",
       "    </tr>\n",
       "    <tr>\n",
       "      <th>7</th>\n",
       "      <td>7</td>\n",
       "      <td>CBL</td>\n",
       "      <td>Deletion</td>\n",
       "      <td>1</td>\n",
       "    </tr>\n",
       "    <tr>\n",
       "      <th>8</th>\n",
       "      <td>8</td>\n",
       "      <td>CBL</td>\n",
       "      <td>Y371H</td>\n",
       "      <td>4</td>\n",
       "    </tr>\n",
       "    <tr>\n",
       "      <th>9</th>\n",
       "      <td>9</td>\n",
       "      <td>CBL</td>\n",
       "      <td>C384R</td>\n",
       "      <td>4</td>\n",
       "    </tr>\n",
       "  </tbody>\n",
       "</table>\n",
       "</div>"
      ],
      "text/plain": [
       "   ID    Gene             Variation  Class\n",
       "0   0  FAM58A  Truncating Mutations      1\n",
       "1   1     CBL                 W802*      2\n",
       "2   2     CBL                 Q249E      2\n",
       "3   3     CBL                 N454D      3\n",
       "4   4     CBL                 L399V      4\n",
       "5   5     CBL                 V391I      4\n",
       "6   6     CBL                 V430M      5\n",
       "7   7     CBL              Deletion      1\n",
       "8   8     CBL                 Y371H      4\n",
       "9   9     CBL                 C384R      4"
      ]
     },
     "execution_count": 6,
     "metadata": {},
     "output_type": "execute_result"
    }
   ],
   "source": [
    "data=p.read_csv(\"training_variants\")\n",
    "print(\"Training Variants Shape:\",data.shape)\n",
    "print(\"Feature names:\",data.columns.values)\n",
    "data.head(10)"
   ]
  },
  {
   "cell_type": "code",
   "execution_count": 7,
   "metadata": {},
   "outputs": [
    {
     "name": "stdout",
     "output_type": "stream",
     "text": [
      "Series([], dtype: float64)\n"
     ]
    }
   ],
   "source": [
    "null_cols=data.columns[data.isnull().any()]\n",
    "print(data[null_cols].isnull().sum())"
   ]
  },
  {
   "cell_type": "markdown",
   "metadata": {},
   "source": [
    "<h3>3.1.2. Reading Text Data</h3>"
   ]
  },
  {
   "cell_type": "markdown",
   "metadata": {},
   "source": [
    "<p>Here the separator is || not comma so we need to specify it while reading the data </p>"
   ]
  },
  {
   "cell_type": "code",
   "execution_count": 8,
   "metadata": {},
   "outputs": [
    {
     "name": "stdout",
     "output_type": "stream",
     "text": [
      "Training Text data shape: (3321, 2)\n"
     ]
    },
    {
     "data": {
      "text/html": [
       "<div>\n",
       "<style scoped>\n",
       "    .dataframe tbody tr th:only-of-type {\n",
       "        vertical-align: middle;\n",
       "    }\n",
       "\n",
       "    .dataframe tbody tr th {\n",
       "        vertical-align: top;\n",
       "    }\n",
       "\n",
       "    .dataframe thead th {\n",
       "        text-align: right;\n",
       "    }\n",
       "</style>\n",
       "<table border=\"1\" class=\"dataframe\">\n",
       "  <thead>\n",
       "    <tr style=\"text-align: right;\">\n",
       "      <th></th>\n",
       "      <th>ID</th>\n",
       "      <th>Text</th>\n",
       "    </tr>\n",
       "  </thead>\n",
       "  <tbody>\n",
       "    <tr>\n",
       "      <th>0</th>\n",
       "      <td>0</td>\n",
       "      <td>Cyclin-dependent kinases (CDKs) regulate a var...</td>\n",
       "    </tr>\n",
       "    <tr>\n",
       "      <th>1</th>\n",
       "      <td>1</td>\n",
       "      <td>Abstract Background  Non-small cell lung canc...</td>\n",
       "    </tr>\n",
       "    <tr>\n",
       "      <th>2</th>\n",
       "      <td>2</td>\n",
       "      <td>Abstract Background  Non-small cell lung canc...</td>\n",
       "    </tr>\n",
       "    <tr>\n",
       "      <th>3</th>\n",
       "      <td>3</td>\n",
       "      <td>Recent evidence has demonstrated that acquired...</td>\n",
       "    </tr>\n",
       "    <tr>\n",
       "      <th>4</th>\n",
       "      <td>4</td>\n",
       "      <td>Oncogenic mutations in the monomeric Casitas B...</td>\n",
       "    </tr>\n",
       "  </tbody>\n",
       "</table>\n",
       "</div>"
      ],
      "text/plain": [
       "   ID                                               Text\n",
       "0   0  Cyclin-dependent kinases (CDKs) regulate a var...\n",
       "1   1   Abstract Background  Non-small cell lung canc...\n",
       "2   2   Abstract Background  Non-small cell lung canc...\n",
       "3   3  Recent evidence has demonstrated that acquired...\n",
       "4   4  Oncogenic mutations in the monomeric Casitas B..."
      ]
     },
     "execution_count": 8,
     "metadata": {},
     "output_type": "execute_result"
    }
   ],
   "source": [
    "#Here we need to provide name of columns explicitly because ID,Text are comma separated. And we skip first row\n",
    "data_text=p.read_csv(\"training_text\",sep=\"\\|\\|\",names=['ID','Text'],skiprows=1)\n",
    "print(\"Training Text data shape:\",data_text.shape)\n",
    "data_text.head()"
   ]
  },
  {
   "cell_type": "markdown",
   "metadata": {},
   "source": [
    "<h3>3.1.3. Preprocessing of Text Begins</h3>"
   ]
  },
  {
   "cell_type": "code",
   "execution_count": 9,
   "metadata": {},
   "outputs": [],
   "source": [
    "str1=\"Here is a string %6 534 @\"\n",
    "str1=re.sub('[^A-Za-z0-9]+', ' ', str1)"
   ]
  },
  {
   "cell_type": "code",
   "execution_count": 10,
   "metadata": {
    "scrolled": true
   },
   "outputs": [
    {
     "data": {
      "text/plain": [
       "'Here is a string 6 534 '"
      ]
     },
     "execution_count": 10,
     "metadata": {},
     "output_type": "execute_result"
    }
   ],
   "source": [
    "re.sub('\\s+',' ',str1)"
   ]
  },
  {
   "cell_type": "code",
   "execution_count": null,
   "metadata": {},
   "outputs": [],
   "source": []
  },
  {
   "cell_type": "code",
   "execution_count": 11,
   "metadata": {},
   "outputs": [],
   "source": [
    "#for index,row in data_text.iterrows():\n",
    "#    print(type(row['Text']))"
   ]
  },
  {
   "cell_type": "code",
   "execution_count": 12,
   "metadata": {},
   "outputs": [
    {
     "name": "stderr",
     "output_type": "stream",
     "text": [
      "[nltk_data] Downloading package stopwords to\n",
      "[nltk_data]     /Users/sudhanshurai/nltk_data...\n",
      "[nltk_data]   Package stopwords is already up-to-date!\n"
     ]
    },
    {
     "data": {
      "text/plain": [
       "True"
      ]
     },
     "execution_count": 12,
     "metadata": {},
     "output_type": "execute_result"
    }
   ],
   "source": [
    "import nltk\n",
    "nltk.download('stopwords')\n",
    "  "
   ]
  },
  {
   "cell_type": "code",
   "execution_count": 13,
   "metadata": {},
   "outputs": [
    {
     "name": "stdout",
     "output_type": "stream",
     "text": [
      "{'other', 'has', \"you've\", 'until', 'is', 'why', 'not', 'have', 'being', 'with', 'each', \"should've\", 'itself', 'out', 'above', 'too', 'm', 'do', 'can', \"you're\", 'our', 'what', 'it', 'd', 'before', 'same', 'having', 'this', \"that'll\", 'we', 'the', 'themselves', 'between', \"mightn't\", 'shan', 'mustn', 'will', \"hasn't\", 'here', 'wouldn', 'again', 'only', 'or', 'their', 'which', 'through', 'about', 'as', 'he', 'some', 'who', 'a', 'where', 'doing', 'its', 'now', 'hasn', 'then', 'own', 'more', 'further', \"couldn't\", 'was', 'yours', 'herself', \"doesn't\", 't', 'no', 'should', \"wasn't\", 'didn', 'when', 'during', 'but', 'i', 'than', 'his', \"you'll\", 'be', \"it's\", 'couldn', 'she', 'all', 'hadn', 's', 'whom', 'himself', 'haven', 'for', 'below', 'under', 'by', 'that', \"needn't\", 'of', 'an', 'any', 'down', 'had', 'to', 'theirs', 'if', 'and', 'don', 'shouldn', 'nor', 'yourselves', 'me', 'll', 'needn', 'after', \"don't\", 'ours', 'mightn', 'her', 'against', 'up', 'once', 'am', 'most', 'weren', 'you', 'off', 'doesn', 'because', 're', 'in', 'were', 'on', 'them', 'ma', 'from', 'just', 've', \"mustn't\", \"haven't\", 'wasn', 'these', 'such', \"you'd\", \"aren't\", 'y', 'so', 'him', 'how', 'been', 'few', 'ain', \"won't\", 'isn', 'at', 'aren', \"shan't\", \"hadn't\", 'are', \"isn't\", \"shouldn't\", 'into', 'your', \"she's\", 'there', 'myself', 'yourself', 'they', \"wouldn't\", 'ourselves', 'while', 'my', 'won', 'o', 'over', 'very', 'both', 'did', \"weren't\", 'those', \"didn't\", 'does', 'hers'}\n"
     ]
    }
   ],
   "source": [
    "stop_words=set(stopwords.words('english'))\n",
    "print(stop_words)\n",
    "\n",
    "def text_cleaning(text, index):\n",
    "    if type(text) is not int:\n",
    "        string=\"\"\n",
    "        text=re.sub('[^A-Za-z0-9]+', ' ', text)\n",
    "        text=re.sub('\\s+',' ',text)\n",
    "        text=text.lower()\n",
    "        \n",
    "        for word in text.split():\n",
    "            if not word in stop_words:\n",
    "                string+=word+\" \"\n",
    "        data_text['Text'][index]=string        "
   ]
  },
  {
   "cell_type": "code",
   "execution_count": 14,
   "metadata": {
    "scrolled": true
   },
   "outputs": [
    {
     "name": "stdout",
     "output_type": "stream",
     "text": [
      "No text found in text column of row: 1109\n",
      "No text found in text column of row: 1277\n",
      "No text found in text column of row: 1407\n",
      "No text found in text column of row: 1639\n",
      "No text found in text column of row: 2755\n"
     ]
    }
   ],
   "source": [
    "for index,row in data_text.iterrows():\n",
    "    if type(row['Text']) is str:\n",
    "        text_cleaning(row['Text'],index)\n",
    "    else:\n",
    "        print(\"No text found in text column of row:\",index)"
   ]
  },
  {
   "cell_type": "code",
   "execution_count": 84,
   "metadata": {},
   "outputs": [
    {
     "data": {
      "text/plain": [
       "'cyclin dependent kinases cdks regulate variety fundamental cellular processes cdk10 stands one last orphan cdks activating cyclin identified kinase activity revealed previous work shown cdk10 silencing increases ets2 v ets erythroblastosis virus e26 oncogene homolog 2 driven activation mapk pathway confers tamoxifen resistance breast cancer cells precise mechanisms cdk10 modulates ets2 activity generally functions cdk10 remain elusive demonstrate cdk10 cyclin dependent kinase identifying cyclin '"
      ]
     },
     "execution_count": 84,
     "metadata": {},
     "output_type": "execute_result"
    }
   ],
   "source": [
    "#first 500 characters in 1st index\n",
    "\n",
    "data_text['Text'][0][0:500]"
   ]
  },
  {
   "cell_type": "code",
   "execution_count": 16,
   "metadata": {},
   "outputs": [],
   "source": [
    "#now we will combine our two different datasets and save the cleaned data into new csv file\n",
    "processed_data=p.merge(data,data_text, on='ID',how='left')\n",
    "processed_data.head()\n",
    "processed_data.to_csv('processed_data.csv')"
   ]
  },
  {
   "cell_type": "code",
   "execution_count": 17,
   "metadata": {},
   "outputs": [],
   "source": [
    "#now we are reading our processed data as data"
   ]
  },
  {
   "cell_type": "code",
   "execution_count": 18,
   "metadata": {},
   "outputs": [],
   "source": [
    "data=p.read_csv('processed_data.csv')"
   ]
  },
  {
   "cell_type": "code",
   "execution_count": 19,
   "metadata": {
    "scrolled": true
   },
   "outputs": [
    {
     "data": {
      "text/html": [
       "<div>\n",
       "<style scoped>\n",
       "    .dataframe tbody tr th:only-of-type {\n",
       "        vertical-align: middle;\n",
       "    }\n",
       "\n",
       "    .dataframe tbody tr th {\n",
       "        vertical-align: top;\n",
       "    }\n",
       "\n",
       "    .dataframe thead th {\n",
       "        text-align: right;\n",
       "    }\n",
       "</style>\n",
       "<table border=\"1\" class=\"dataframe\">\n",
       "  <thead>\n",
       "    <tr style=\"text-align: right;\">\n",
       "      <th></th>\n",
       "      <th>Unnamed: 0</th>\n",
       "      <th>ID</th>\n",
       "      <th>Gene</th>\n",
       "      <th>Variation</th>\n",
       "      <th>Class</th>\n",
       "      <th>Text</th>\n",
       "    </tr>\n",
       "  </thead>\n",
       "  <tbody>\n",
       "    <tr>\n",
       "      <th>0</th>\n",
       "      <td>0</td>\n",
       "      <td>0</td>\n",
       "      <td>FAM58A</td>\n",
       "      <td>Truncating Mutations</td>\n",
       "      <td>1</td>\n",
       "      <td>cyclin dependent kinases cdks regulate variety...</td>\n",
       "    </tr>\n",
       "    <tr>\n",
       "      <th>1</th>\n",
       "      <td>1</td>\n",
       "      <td>1</td>\n",
       "      <td>CBL</td>\n",
       "      <td>W802*</td>\n",
       "      <td>2</td>\n",
       "      <td>abstract background non small cell lung cancer...</td>\n",
       "    </tr>\n",
       "    <tr>\n",
       "      <th>2</th>\n",
       "      <td>2</td>\n",
       "      <td>2</td>\n",
       "      <td>CBL</td>\n",
       "      <td>Q249E</td>\n",
       "      <td>2</td>\n",
       "      <td>abstract background non small cell lung cancer...</td>\n",
       "    </tr>\n",
       "    <tr>\n",
       "      <th>3</th>\n",
       "      <td>3</td>\n",
       "      <td>3</td>\n",
       "      <td>CBL</td>\n",
       "      <td>N454D</td>\n",
       "      <td>3</td>\n",
       "      <td>recent evidence demonstrated acquired uniparen...</td>\n",
       "    </tr>\n",
       "    <tr>\n",
       "      <th>4</th>\n",
       "      <td>4</td>\n",
       "      <td>4</td>\n",
       "      <td>CBL</td>\n",
       "      <td>L399V</td>\n",
       "      <td>4</td>\n",
       "      <td>oncogenic mutations monomeric casitas b lineag...</td>\n",
       "    </tr>\n",
       "  </tbody>\n",
       "</table>\n",
       "</div>"
      ],
      "text/plain": [
       "   Unnamed: 0  ID    Gene             Variation  Class  \\\n",
       "0           0   0  FAM58A  Truncating Mutations      1   \n",
       "1           1   1     CBL                 W802*      2   \n",
       "2           2   2     CBL                 Q249E      2   \n",
       "3           3   3     CBL                 N454D      3   \n",
       "4           4   4     CBL                 L399V      4   \n",
       "\n",
       "                                                Text  \n",
       "0  cyclin dependent kinases cdks regulate variety...  \n",
       "1  abstract background non small cell lung cancer...  \n",
       "2  abstract background non small cell lung cancer...  \n",
       "3  recent evidence demonstrated acquired uniparen...  \n",
       "4  oncogenic mutations monomeric casitas b lineag...  "
      ]
     },
     "execution_count": 19,
     "metadata": {},
     "output_type": "execute_result"
    }
   ],
   "source": [
    "data.head()"
   ]
  },
  {
   "cell_type": "code",
   "execution_count": 20,
   "metadata": {},
   "outputs": [
    {
     "data": {
      "text/html": [
       "<div>\n",
       "<style scoped>\n",
       "    .dataframe tbody tr th:only-of-type {\n",
       "        vertical-align: middle;\n",
       "    }\n",
       "\n",
       "    .dataframe tbody tr th {\n",
       "        vertical-align: top;\n",
       "    }\n",
       "\n",
       "    .dataframe thead th {\n",
       "        text-align: right;\n",
       "    }\n",
       "</style>\n",
       "<table border=\"1\" class=\"dataframe\">\n",
       "  <thead>\n",
       "    <tr style=\"text-align: right;\">\n",
       "      <th></th>\n",
       "      <th>Unnamed: 0</th>\n",
       "      <th>ID</th>\n",
       "      <th>Gene</th>\n",
       "      <th>Variation</th>\n",
       "      <th>Class</th>\n",
       "      <th>Text</th>\n",
       "    </tr>\n",
       "  </thead>\n",
       "  <tbody>\n",
       "    <tr>\n",
       "      <th>1109</th>\n",
       "      <td>1109</td>\n",
       "      <td>1109</td>\n",
       "      <td>FANCA</td>\n",
       "      <td>S1088F</td>\n",
       "      <td>1</td>\n",
       "      <td>NaN</td>\n",
       "    </tr>\n",
       "    <tr>\n",
       "      <th>1277</th>\n",
       "      <td>1277</td>\n",
       "      <td>1277</td>\n",
       "      <td>ARID5B</td>\n",
       "      <td>Truncating Mutations</td>\n",
       "      <td>1</td>\n",
       "      <td>NaN</td>\n",
       "    </tr>\n",
       "    <tr>\n",
       "      <th>1407</th>\n",
       "      <td>1407</td>\n",
       "      <td>1407</td>\n",
       "      <td>FGFR3</td>\n",
       "      <td>K508M</td>\n",
       "      <td>6</td>\n",
       "      <td>NaN</td>\n",
       "    </tr>\n",
       "    <tr>\n",
       "      <th>1639</th>\n",
       "      <td>1639</td>\n",
       "      <td>1639</td>\n",
       "      <td>FLT1</td>\n",
       "      <td>Amplification</td>\n",
       "      <td>6</td>\n",
       "      <td>NaN</td>\n",
       "    </tr>\n",
       "    <tr>\n",
       "      <th>2755</th>\n",
       "      <td>2755</td>\n",
       "      <td>2755</td>\n",
       "      <td>BRAF</td>\n",
       "      <td>G596C</td>\n",
       "      <td>7</td>\n",
       "      <td>NaN</td>\n",
       "    </tr>\n",
       "  </tbody>\n",
       "</table>\n",
       "</div>"
      ],
      "text/plain": [
       "      Unnamed: 0    ID    Gene             Variation  Class Text\n",
       "1109        1109  1109   FANCA                S1088F      1  NaN\n",
       "1277        1277  1277  ARID5B  Truncating Mutations      1  NaN\n",
       "1407        1407  1407   FGFR3                 K508M      6  NaN\n",
       "1639        1639  1639    FLT1         Amplification      6  NaN\n",
       "2755        2755  2755    BRAF                 G596C      7  NaN"
      ]
     },
     "execution_count": 20,
     "metadata": {},
     "output_type": "execute_result"
    }
   ],
   "source": [
    "#we observed that there are a few rows in which text data is blank. so we just enter the gene name and variation in these fields\n",
    "data[data.isnull().any(axis=1)]"
   ]
  },
  {
   "cell_type": "code",
   "execution_count": 21,
   "metadata": {},
   "outputs": [
    {
     "data": {
      "text/html": [
       "<div>\n",
       "<style scoped>\n",
       "    .dataframe tbody tr th:only-of-type {\n",
       "        vertical-align: middle;\n",
       "    }\n",
       "\n",
       "    .dataframe tbody tr th {\n",
       "        vertical-align: top;\n",
       "    }\n",
       "\n",
       "    .dataframe thead th {\n",
       "        text-align: right;\n",
       "    }\n",
       "</style>\n",
       "<table border=\"1\" class=\"dataframe\">\n",
       "  <thead>\n",
       "    <tr style=\"text-align: right;\">\n",
       "      <th></th>\n",
       "      <th>Unnamed: 0</th>\n",
       "      <th>ID</th>\n",
       "      <th>Gene</th>\n",
       "      <th>Variation</th>\n",
       "      <th>Class</th>\n",
       "      <th>Text</th>\n",
       "    </tr>\n",
       "  </thead>\n",
       "  <tbody>\n",
       "    <tr>\n",
       "      <th>2755</th>\n",
       "      <td>2755</td>\n",
       "      <td>2755</td>\n",
       "      <td>BRAF</td>\n",
       "      <td>G596C</td>\n",
       "      <td>7</td>\n",
       "      <td>BRAF G596C</td>\n",
       "    </tr>\n",
       "  </tbody>\n",
       "</table>\n",
       "</div>"
      ],
      "text/plain": [
       "      Unnamed: 0    ID  Gene Variation  Class        Text\n",
       "2755        2755  2755  BRAF     G596C      7  BRAF G596C"
      ]
     },
     "execution_count": 21,
     "metadata": {},
     "output_type": "execute_result"
    }
   ],
   "source": [
    "data.loc[data['Text'].isnull(),'Text']=data['Gene']+' '+data['Variation']\n",
    "data[data['ID']==2755]"
   ]
  },
  {
   "cell_type": "markdown",
   "metadata": {},
   "source": [
    "<h3>3.1.4. Train, Test and Cross Validation Split</h3>\n",
    "<p> We will break our data first in 80-20 ratio into Train and Test and then 80% of Train data will be further broken into 80:20 ratio for Train and Cross Validation data. Thus making the Train:Test:CV ratio as 64:20:16.</p><p> This is just random break, you can choose whatever ratio you like.</p>\n",
    "<br>\n",
    "<p>Before breaking our data, we need to make sure that if the data is imbalanced, then the test, train and CV data should have the same proportion of different class labels as the original data. For this we have <b>stratify</b> variable in train_test_split method, where we pass the class label values and our data is broken in exact proportionality.</p>"
   ]
  },
  {
   "cell_type": "code",
   "execution_count": 22,
   "metadata": {},
   "outputs": [
    {
     "name": "stdout",
     "output_type": "stream",
     "text": [
      "Total points in X_train is: 2124\n",
      "Total points in X_test is: 665\n",
      "Total points in X_cv is: 532\n"
     ]
    }
   ],
   "source": [
    "class_data=data['Class'].values\n",
    "\n",
    "X_train, X_test, y_train, y_test=train_test_split(data,class_data,stratify=class_data,test_size=0.2)\n",
    "X_train, X_cv, y_train, y_cv=train_test_split(X_train,y_train,stratify=y_train,test_size=0.2)\n",
    "\n",
    "print(\"Total points in X_train is:\",X_train.shape[0])\n",
    "print(\"Total points in X_test is:\",X_test.shape[0])\n",
    "print(\"Total points in X_cv is:\",X_cv.shape[0])"
   ]
  },
  {
   "cell_type": "markdown",
   "metadata": {},
   "source": [
    "<h6>3.1.4.2 Validation of Proportionality in which Data is broken</h6>\n",
    "<p> Here we plot the bar graph for each distribution and check if each class label is equally distributed in each category.</p>\n"
   ]
  },
  {
   "cell_type": "code",
   "execution_count": 23,
   "metadata": {},
   "outputs": [
    {
     "data": {
      "image/png": "[encoded data removed]",
      "text/plain": [
       "<Figure size 432x288 with 1 Axes>"
      ]
     },
     "metadata": {
      "needs_background": "light"
     },
     "output_type": "display_data"
    },
    {
     "data": {
      "image/png": "[encoded data removed]",
      "text/plain": [
       "<Figure size 432x288 with 1 Axes>"
      ]
     },
     "metadata": {
      "needs_background": "light"
     },
     "output_type": "display_data"
    },
    {
     "data": {
      "image/png": "[encoded data removed]",
      "text/plain": [
       "<Figure size 432x288 with 1 Axes>"
      ]
     },
     "metadata": {
      "needs_background": "light"
     },
     "output_type": "display_data"
    }
   ],
   "source": [
    "train_dist=X_train['Class'].value_counts()\n",
    "test_dist=X_test['Class'].value_counts()\n",
    "cv_dist=X_cv['Class'].value_counts()\n",
    "\n",
    "train_dist.plot(kind='barh',colormap='copper_r')\n",
    "plt.xlabel('Class')\n",
    "plt.ylabel('Points in each Class')\n",
    "plt.title('Train Distribution')\n",
    "plt.grid()\n",
    "for index,value in enumerate(train_dist):\n",
    "    s=n.round(value/X_train.shape[0]*100,2)\n",
    "    s1=str(s)+\"%\"\n",
    "    plt.text(value, index, s1)\n",
    "plt.show()\n",
    "\n",
    "\n",
    "test_dist.plot(kind='barh',colormap='winter')\n",
    "plt.xlabel('Class')\n",
    "plt.ylabel('Points in each Class')\n",
    "plt.title('Test Distribution')\n",
    "plt.grid()\n",
    "for index,value in enumerate(test_dist):\n",
    "    s=n.round(value/X_test.shape[0]*100,2)\n",
    "    s1=str(s)+\"%\"\n",
    "    plt.text(value, index, s1)\n",
    "plt.show()\n",
    "\n",
    "\n",
    "cv_dist.plot(kind='barh',colormap='coolwarm_r')\n",
    "plt.xlabel('Class')\n",
    "plt.ylabel('Points in each Class')\n",
    "plt.title('CV Distribution')\n",
    "plt.grid()\n",
    "for index,value in enumerate(cv_dist):\n",
    "    s=n.round(value/X_cv.shape[0]*100,2)\n",
    "    s1=str(s)+\"%\"\n",
    "    plt.text(value, index, s1)\n",
    "plt.show()\n",
    "\n"
   ]
  },
  {
   "cell_type": "markdown",
   "metadata": {},
   "source": [
    "<p><b>NOTE:</b> It can be observed that all the three distributions are almost equal by the proportion of the class labels. For example we can see that for class label 1, train, test and CV distributions have 17.09%, 17.14% and 17.11% of class label 1 respectively. </p>"
   ]
  },
  {
   "cell_type": "code",
   "execution_count": 24,
   "metadata": {},
   "outputs": [
    {
     "name": "stdout",
     "output_type": "stream",
     "text": [
      "[0.04740126 0.18115874 0.14263622 0.13961517 0.02472206 0.06951812\n",
      " 0.08105514 0.14076486 0.17312843]\n",
      "[[0.04740126 0.18115874 0.14263622 0.13961517 0.02472206 0.06951812\n",
      "  0.08105514 0.14076486 0.17312843]]\n"
     ]
    }
   ],
   "source": [
    "import numpy as n\n",
    "t=n.random.rand(1,9)\n",
    "z=((t/sum(sum(t))))\n",
    "print(z[0])\n",
    "print(z)"
   ]
  },
  {
   "cell_type": "markdown",
   "metadata": {},
   "source": [
    "<h2>3.2 Random Model</h2>"
   ]
  },
  {
   "cell_type": "code",
   "execution_count": 25,
   "metadata": {},
   "outputs": [
    {
     "name": "stdout",
     "output_type": "stream",
     "text": [
      "532\n",
      "(532, 9)\n"
     ]
    }
   ],
   "source": [
    "z=n.zeros((X_cv.shape[0],9)).shape\n",
    "print(X_cv.shape[0])\n",
    "print(z)"
   ]
  },
  {
   "cell_type": "markdown",
   "metadata": {},
   "source": [
    "<p>In case of log loss, the range of possible values is [0,infinity) where 0 depicts the ideal model and a very high value depicts a random model. To find the upper limit, we generate random values as predicted values and compute its log loss so that we can have the upper limit of log loss. </p><p>We will compute nine random class probabilites for each class such that their sum is equal to one.</p>"
   ]
  },
  {
   "cell_type": "code",
   "execution_count": 26,
   "metadata": {},
   "outputs": [
    {
     "name": "stdout",
     "output_type": "stream",
     "text": [
      "Log Loss from Random generated model for CV data is : 2.433361642514594\n",
      "Log Loss from Random generated model for Test data is : 2.463658543176358\n"
     ]
    }
   ],
   "source": [
    "#we find number of rows in cv and test data\n",
    "len_X_cv=X_cv.shape[0]\n",
    "len_X_test=X_test.shape[0]\n",
    "\n",
    "#we create a output array that has exactly same size as the CV data\n",
    "#Log_Loss: In Log loss we compute the (-1/n)summation summation(yij*log(pij)). since we have multiclass classification,\n",
    "#yij is equal to 1 for correct class label, and for others its equal to 0. and we multiply it with predicted probability of\n",
    "#that class label. so if the prob is high, log value will be less. If the prob for correct class label is low, then the log \n",
    "#value will be high. That is why we need log loss as less as possible. \n",
    "\n",
    "\n",
    "predicted_y_cv=n.zeros((len_X_cv,9))\n",
    "predicted_y_test=n.zeros((len_X_test,9))\n",
    "\n",
    "\n",
    "for i in range(len_X_cv):\n",
    "    random_prob=n.random.rand(1,9)\n",
    "    predicted_y_cv[i]=random_prob/sum(sum(random_prob))\n",
    "print(\"Log Loss from Random generated model for CV data is :\",log_loss(y_cv,predicted_y_cv))\n",
    "\n",
    "\n",
    "for i in range(len_X_test):\n",
    "    random_probs=n.random.rand(1,9)\n",
    "    predicted_y_test[i]=random_probs/sum(sum(random_probs))\n",
    "print(\"Log Loss from Random generated model for Test data is :\",log_loss(y_test,predicted_y_test))\n"
   ]
  },
  {
   "cell_type": "code",
   "execution_count": 27,
   "metadata": {},
   "outputs": [
    {
     "data": {
      "text/plain": [
       "array([[13, 14, 15, 15, 13,  6, 11, 16, 11],\n",
       "       [ 4,  9, 11, 14, 10, 13,  8, 16,  6],\n",
       "       [ 2,  1,  4,  2,  2,  2,  2,  1,  2],\n",
       "       [17, 18, 11, 18, 11, 23, 14, 11, 14],\n",
       "       [ 3,  6,  8,  7,  5,  5,  6,  3,  5],\n",
       "       [ 6,  9,  4,  7,  6,  8,  6,  7,  2],\n",
       "       [17, 18, 23, 24, 20, 21, 20, 25, 23],\n",
       "       [ 0,  2,  0,  0,  1,  0,  0,  0,  1],\n",
       "       [ 0,  2,  1,  0,  1,  1,  1,  0,  1]])"
      ]
     },
     "execution_count": 27,
     "metadata": {},
     "output_type": "execute_result"
    }
   ],
   "source": [
    "#Confusion matrix where x axis is Predicted Class, and y axis is Original Class\n",
    "confusion_matrix(y_test, n.argmax(predicted_y_test,axis=1)+1) "
   ]
  },
  {
   "cell_type": "markdown",
   "metadata": {},
   "source": [
    "<h2> 3.3 Univariate Analysis </h2>"
   ]
  },
  {
   "cell_type": "markdown",
   "metadata": {},
   "source": [
    "<p>In univariate analysis, we analysis individual features, their distributions, PDF, CDF, and try to find how much does a specific feature impacts the y class label. Since in this case we have 2 categorical features and one text feature so we will learn how to handle categorical data first. We will do one hot encoding and response coding to convert categorical features into vectors so that we can apply Machine Learning models to check how much impact does a specific feature has on y label. </p>"
   ]
  },
  {
   "cell_type": "markdown",
   "metadata": {},
   "source": [
    "<p> <b>ONE HOT ENCODING:</b> In one hot encoding, if there are n distinct values in feature (categorical), we create a (1*n) dim array. Each value corresponding to a value in feature. And where all values are zero except the value in a specific row. e.g. feature {\"Red\",\"Green\",\"Yellow\"}, will have array as [0,0,0]. For rows with Red [1,0,0], Green [0,1,0] and Yellow [0,0,1].The issue with this is, that when the distinct values are high, eg country or pincode, we need to create very large dim metrices which are sparse. One Hot Encoding works well with Logistic Regression.  </p>"
   ]
  },
  {
   "cell_type": "markdown",
   "metadata": {},
   "source": [
    "<p><b>RESPONSE CODING:</b> This is another method to handle categorical data. Here every gene (one of categorical feature) is replaced with a vector of 9 dim (total class labels), and each cell contains P(y=j | gene), i.e probability of class label as j (1-9) given gene i. When we elaborate on this, for a gene 'BRCAI', suppose it occurs 100 times. Out of this 1 occurs 20 times, 2 occures 30 times and 7 occures 50 times. So our vector becomes, [0.2,0,3,0,0,0,0,0.5,0,0]. So for these 100 times, we replace it by this vector. And so on for every gene. It is effective in handling large value of categorical features and Response Coding is effective in Random Forest Algorithm.  </p><p>We have created two methods below for generating response coded features. 'get_unique_feature_dictionary' function returns a dictionary with unique category values as key, and for value it has a list of size 9, which contains the probabilities as explained above. \"get_response_coded_features\" function calls the above function to get the list of prob and then for every value corresponding to original feature, it creates a new value containing a list of 9 probabilities. This is response coding.  </p>"
   ]
  },
  {
   "cell_type": "markdown",
   "metadata": {},
   "source": [
    "<h3> Gene Feature </h3>"
   ]
  },
  {
   "cell_type": "code",
   "execution_count": 28,
   "metadata": {},
   "outputs": [],
   "source": [
    "#print(X_cv['Gene'].value_counts())\n",
    "#BRCA1     48\n",
    "#TP53      28\n",
    "#PTEN      25\n",
    "#EGFR      21\n",
    "#BRCA2     19\n",
    "#          ..\n",
    "#RASA1      1\n",
    "\n",
    "#print(X_train.loc[(X_train['Class']==1) & (X_train['Gene']=='BRCA1'))\n",
    "#Unnamed: 0    ID   Gene             Variation  Class  \\\n",
    "#2455        2455  2455  BRCA1                H1746N      1   \n",
    "#2579        2579  2579  BRCA1                G1763V      1   \n",
    "#2483        2483  2483  BRCA1                H1686R      1   \n",
    "#2501        2501  2501  BRCA1                K1702E      1   \n",
    "#2634        2634  2634  BRCA1                W1718L      1   \n",
    "#2569        2569  2569  BRCA1                Q1811R      1   \n",
    "\n",
    "#print(X_train.loc[(X_train['Class']==1) & (X_train['Gene']=='BRCA1')].shape[0])\n",
    "#40\n",
    "#(it shows that there are 40 values with Gene='BRCA1' and Class=1)\n",
    "\n",
    "\n",
    "#print(X_train.loc[(X_train['Class']==5) & (X_train['Gene']=='BRCA1')].shape[0])\n",
    "#54\n",
    "#(it shows that there are 54 values with Gene='BRCA1' and Class=5)"
   ]
  },
  {
   "cell_type": "code",
   "execution_count": 85,
   "metadata": {},
   "outputs": [],
   "source": [
    "#this method will return a dictionary containing unique categorical features as key and a list [] containing 9 probabilties\n",
    "# for each key as value.\n",
    "# First we grouped categories with their frequencies in variable 'value_count'. Then for every category we compute 9 probabilites\n",
    "# out of frequency of that category.\n",
    "\n",
    "def get_unique_feature_dictionary(alpha, feature, df): #alpha is for Laplace smoothing\n",
    "    value_count= X_train[feature].value_counts()\n",
    "    feature_dict=dict()\n",
    "    \n",
    "    for i,denominator in value_count.items():\n",
    "        vec=[]\n",
    "        for k in range(1,10):\n",
    "            feature_cnt=X_train.loc[(X_train[feature]==i)&(X_train['Class']==k)].shape[0]\n",
    "            vec.append((feature_cnt+alpha*10)/(denominator+alpha*90)) #Laplace smoothing\n",
    "        feature_dict[i]=vec\n",
    "    return feature_dict\n",
    "\n",
    "#print(get_unique_feature_dictionary(1,'Gene',X_train))\n",
    "#{'BRCA1': [0.1968503937007874, 0.03937007874015748, 0.07874015748031496, 0.14173228346456693, 0.25196850393700787, 0.1732283464566929, 0.03937007874015748, 0.03937007874015748, 0.03937007874015748], 'TP53': [0.31155778894472363, 0.06030150753768844, 0.05527638190954774, 0.2914572864321608, 0.06030150753768844, 0.06532663316582915, 0.05025125628140704, 0.05025125628140704, 0.05527638190954774],...\n",
    "#It can happen that the numerator has value 1 and denominator has 100, so it will lead to very small values. Thus we do Laplace\n",
    "#smoothing. (numerator+alpha*10)/(denominator+alpha*90)\n",
    "\n"
   ]
  },
  {
   "cell_type": "code",
   "execution_count": 30,
   "metadata": {},
   "outputs": [],
   "source": [
    "#print(X_cv['Gene'].value_counts())\n",
    "#BRCA1     48\n",
    "#TP53      28\n",
    "#PTEN      25\n",
    "#EGFR      21\n",
    "#BRCA2     19\n",
    "#          ..\n",
    "#RASA1      1\n",
    "\n",
    "#print(X_train.loc[(X_train['Class']==1) & (X_train['Gene']=='BRCA1'))\n",
    "#Unnamed: 0    ID   Gene             Variation  Class  \\\n",
    "#2455        2455  2455  BRCA1                H1746N      1   \n",
    "#2579        2579  2579  BRCA1                G1763V      1   \n",
    "#2483        2483  2483  BRCA1                H1686R      1   \n",
    "#2501        2501  2501  BRCA1                K1702E      1   \n",
    "#2634        2634  2634  BRCA1                W1718L      1   \n",
    "#2569        2569  2569  BRCA1                Q1811R      1   \n",
    "\n",
    "#print(X_train.loc[(X_train['Class']==1) & (X_train['Gene']=='BRCA1')].shape[0])\n",
    "#40\n",
    "#(it shows that there are 40 values with Gene='BRCA1' and Class=1)\n",
    "\n",
    "\n",
    "#print(X_train.loc[(X_train['Class']==5) & (X_train['Gene']=='BRCA1')].shape[0])\n",
    "#54\n",
    "#(it shows that there are 54 values with Gene='BRCA1' and Class=5)"
   ]
  },
  {
   "cell_type": "code",
   "execution_count": 31,
   "metadata": {},
   "outputs": [],
   "source": [
    "#This method will use the above method and generate a feature corresponding to our categorical feature, where every value will \n",
    "#be replaced by 9 dim vector for that feature as shown above.\n",
    "\n",
    "def get_response_coded_features(alpha, feature, df):\n",
    "    fea_dict=get_unique_feature_dictionary(alpha, feature, df)\n",
    "    value_count_train=X_train[feature].value_counts()\n",
    "    \n",
    "    new_features=[]\n",
    "    for index,row in df.iterrows():\n",
    "        if row[feature] in dict(value_count_train).keys():\n",
    "            new_features.append(fea_dict[row[feature]])\n",
    "        else:\n",
    "            new_features.append([1/9,1/9,1/9,1/9,1/9,1/9,1/9,1/9,1/9])\n",
    "        \n",
    "    return new_features\n",
    "\n",
    "#print(n.array(get_response_coded_features(1,\"Gene\",X_train)))\n",
    "#[[0.14285714 0.08928571 0.08928571 ... 0.08928571 0.08928571 0.08928571]\n",
    "# [0.12371134 0.11340206 0.10309278 ... 0.12371134 0.10309278 0.10309278]\n",
    "# [0.31472081 0.06091371 0.05583756 ... 0.05076142 0.05076142 0.05583756]\n",
    "# ...\n",
    "# [0.0877193  0.09649123 0.0877193  ... 0.21929825 0.0877193  0.0877193 ]\n",
    "# [0.08396947 0.08396947 0.12977099 ... 0.29007634 0.07633588 0.07633588]\n",
    "# [0.1122449  0.10204082 0.1122449  ... 0.10204082 0.10204082 0.10204082]]\n",
    "\n",
    "#print(n.array(get_response_coded_features(1,\"Gene\",X_train)).shape)\n",
    "#(2124, 9)"
   ]
  },
  {
   "cell_type": "markdown",
   "metadata": {},
   "source": [
    "<li>Now we will start Univariate analysis of Gene feature. We will see its distribution pattern.</li>"
   ]
  },
  {
   "cell_type": "code",
   "execution_count": 32,
   "metadata": {},
   "outputs": [
    {
     "name": "stdout",
     "output_type": "stream",
     "text": [
      "Unique Genes or total categories in X_train: 230\n",
      "BRCA1     174\n",
      "TP53      100\n",
      "EGFR       96\n",
      "BRCA2      88\n",
      "PTEN       78\n",
      "KIT        62\n",
      "BRAF       56\n",
      "ERBB2      41\n",
      "PDGFRA     41\n",
      "CDKN2A     39\n",
      "Name: Gene, dtype: int64\n"
     ]
    }
   ],
   "source": [
    "unique_genes=X_train['Gene'].value_counts()\n",
    "print(\"Unique Genes or total categories in X_train:\",unique_genes.shape[0])\n",
    "print(unique_genes.head(10))"
   ]
  },
  {
   "cell_type": "code",
   "execution_count": 33,
   "metadata": {},
   "outputs": [
    {
     "data": {
      "image/png": "[encoded data removed]",
      "text/plain": [
       "<Figure size 432x288 with 1 Axes>"
      ]
     },
     "metadata": {
      "needs_background": "light"
     },
     "output_type": "display_data"
    }
   ],
   "source": [
    "#PDF\n",
    "s=sum(unique_genes.values)\n",
    "h=unique_genes.values/s\n",
    "plt.plot(h,label=\"Histogram of Genes\")\n",
    "\n",
    "plt.xlabel(\"Index of Gene\")\n",
    "plt.ylabel(\"Number of Occurances\")\n",
    "plt.legend()\n",
    "plt.grid()\n",
    "plt.show()"
   ]
  },
  {
   "cell_type": "code",
   "execution_count": 34,
   "metadata": {},
   "outputs": [
    {
     "data": {
      "image/png": "[encoded data removed]",
      "text/plain": [
       "<Figure size 432x288 with 1 Axes>"
      ]
     },
     "metadata": {
      "needs_background": "light"
     },
     "output_type": "display_data"
    }
   ],
   "source": [
    "#CDF\n",
    "cd=n.cumsum(h)\n",
    "plt.plot(cd,label=\"Cumulative Distribution of Gene\")\n",
    "plt.grid()\n",
    "plt.legend()\n",
    "plt.show()\n",
    "\n",
    "#We note that the distribution of different genes is skewed in X_train. Top 50 genes cover 75% of data."
   ]
  },
  {
   "cell_type": "markdown",
   "metadata": {},
   "source": [
    "<li>Now we will convert our Gene feature into vector form by using both methods.</li>\n",
    "<h4>1. Response Coding</h4>"
   ]
  },
  {
   "cell_type": "code",
   "execution_count": 35,
   "metadata": {
    "scrolled": true
   },
   "outputs": [
    {
     "name": "stdout",
     "output_type": "stream",
     "text": [
      "(2124, 9)\n",
      "(665, 9)\n",
      "(532, 9)\n"
     ]
    }
   ],
   "source": [
    "alpha=1 #Laplace smoothing parameter\n",
    "ResponseCoded_Gene_Train=n.array(get_response_coded_features(alpha,\"Gene\",X_train))\n",
    "ResponseCoded_Gene_Test=n.array(get_response_coded_features(alpha,\"Gene\",X_test))\n",
    "ResponseCoded_Gene_CV=n.array(get_response_coded_features(alpha,\"Gene\",X_cv))\n",
    "print(ResponseCoded_Gene_Train.shape)\n",
    "print(ResponseCoded_Gene_Test.shape)\n",
    "print(ResponseCoded_Gene_CV.shape)"
   ]
  },
  {
   "cell_type": "markdown",
   "metadata": {},
   "source": [
    "<h4>2. One Hot Encoding</h4>"
   ]
  },
  {
   "cell_type": "code",
   "execution_count": 36,
   "metadata": {},
   "outputs": [
    {
     "name": "stdout",
     "output_type": "stream",
     "text": [
      "(532, 229)\n",
      "(2124, 229)\n",
      "(665, 229)\n"
     ]
    }
   ],
   "source": [
    "one_hot_encoding= CountVectorizer()\n",
    "OneHotEncoded_Gene_Train=one_hot_encoding.fit_transform(X_train['Gene'])\n",
    "OneHotEncoded_Gene_Test=one_hot_encoding.transform(X_test['Gene'])\n",
    "OneHotEncoded_Gene_cv=one_hot_encoding.transform(X_cv['Gene'])\n",
    "print(OneHotEncoded_Gene_cv.shape)\n",
    "print(OneHotEncoded_Gene_Train.shape)\n",
    "print(OneHotEncoded_Gene_Test.shape)\n",
    "\n",
    "#Note: We used fit_transform for train and transform for test and cv, reason being when we fit_transform on train, we get 233\n",
    "#columns. If we do fit_transform on test and cv too, we will get different number of columns in each which will lead to sample\n",
    "#fields mismatch while predicting probabilities. Thus we use transform to make sure that test and cv has same size as train.\n",
    "#if used fit_transform\n",
    "#(532, 142)\n",
    "#(2124, 233)\n",
    "#(665, 152)\n",
    "#error: X has 142 features per sample; expecting 233"
   ]
  },
  {
   "cell_type": "markdown",
   "metadata": {},
   "source": [
    "<h3>3.3.1 Predicting y using Feature \"Gene\"</h3>"
   ]
  },
  {
   "cell_type": "markdown",
   "metadata": {},
   "source": [
    "<p>Now that we have converted our categorical feature into vector format using two different techniques, now we will use this new feature in a model with class y, to see how much helpful is this feature/ contribution of this feature in predicting yi s. For this we use general purpose classfier called <b>SGDClassifier()</b>. SGD stands for Stochastic Gradient Descent, where the value we pass in loss variable decides which algorithm is applied. loss='hinge' applies linear SVM. Loss='log' applies Logistic Regression. </p>\n",
    "<p><b>Calibrated Classifier:</b> We do calibration because certain model only predict y as 0 or 1. So in calibration we predict the probabilities of y as 0 and 1. These probabilities are important in computing Log Loss. So we need to predict the probabilites. (See yellow notebook, Miscellaneous Topics). In Calibration model we use sigmoidal method ( sin wave function) or isotonic regression of staircase method. Read notebook for more details.</p>"
   ]
  },
  {
   "cell_type": "code",
   "execution_count": 37,
   "metadata": {},
   "outputs": [
    {
     "name": "stdout",
     "output_type": "stream",
     "text": [
      "Alpha= 1e-06  Log Loss= 1.3185603235381764\n",
      "Alpha= 1e-05  Log Loss= 1.2102098332906959\n",
      "Alpha= 0.0001  Log Loss= 1.1969716505917884\n",
      "Alpha= 0.001  Log Loss= 1.2297320567044747\n",
      "Alpha= 0.01  Log Loss= 1.3424400098638523\n",
      "Alpha= 0.1  Log Loss= 1.4519141177000023\n",
      "Alpha= 1  Log Loss= 1.492748683600127\n",
      "Alpha= 10  Log Loss= 1.4979202645660008\n"
     ]
    }
   ],
   "source": [
    "alpha=[10 ** x for x in range(-6,2)]\n",
    "\n",
    "log_loss_array_OHE=[] \n",
    "for i in alpha:\n",
    "    \n",
    "    clf=SGDClassifier(alpha=i,loss='log',random_state=50)\n",
    "    clf.fit(OneHotEncoded_Gene_Train, y_train)\n",
    "    \n",
    "    cali_clf=CalibratedClassifierCV(clf,method='sigmoid')\n",
    "    cali_clf.fit(OneHotEncoded_Gene_Train,y_train)\n",
    "    \n",
    "    predict_y_cv=cali_clf.predict_proba(OneHotEncoded_Gene_cv)\n",
    "    #print(predict_y_cv)\n",
    "    log_loss_array_OHE.append(log_loss(y_cv,predict_y_cv, labels=clf.classes_,eps=1e-15))\n",
    "    print(\"Alpha=\",i,\" Log Loss=\",log_loss(y_cv,predict_y_cv, labels=clf.classes_,eps=1e-15))"
   ]
  },
  {
   "cell_type": "code",
   "execution_count": 38,
   "metadata": {
    "scrolled": true
   },
   "outputs": [
    {
     "name": "stdout",
     "output_type": "stream",
     "text": [
      "Alpha= 1e-06  Log Loss= 1.2924528960562192\n",
      "Alpha= 1e-05  Log Loss= 1.285256123792058\n",
      "Alpha= 0.0001  Log Loss= 1.2891476385553327\n",
      "Alpha= 0.001  Log Loss= 1.3237546282708703\n",
      "Alpha= 0.01  Log Loss= 1.3529325079573689\n",
      "Alpha= 0.1  Log Loss= 1.3542547199719581\n",
      "Alpha= 1  Log Loss= 1.3651074961463376\n",
      "Alpha= 10  Log Loss= 1.3601260873607257\n"
     ]
    }
   ],
   "source": [
    "log_loss_array_RC=[] \n",
    "for i in alpha:\n",
    "    \n",
    "    clf=SGDClassifier(alpha=i,loss='log',random_state=50)\n",
    "    clf.fit(ResponseCoded_Gene_Train, y_train)\n",
    "    \n",
    "    cali_clf=CalibratedClassifierCV(clf,method='sigmoid')\n",
    "    cali_clf.fit(ResponseCoded_Gene_Train,y_train)\n",
    "    \n",
    "    predict_y_cv=cali_clf.predict_proba(ResponseCoded_Gene_CV)\n",
    "    #print(predict_y_cv)\n",
    "    log_loss_array_RC.append(log_loss(y_cv,predict_y_cv, labels=clf.classes_,eps=1e-15))\n",
    "    print(\"Alpha=\",i,\" Log Loss=\",log_loss(y_cv,predict_y_cv, labels=clf.classes_,eps=1e-15))"
   ]
  },
  {
   "cell_type": "code",
   "execution_count": 39,
   "metadata": {},
   "outputs": [
    {
     "name": "stdout",
     "output_type": "stream",
     "text": [
      "Cross Validation Log Loss: 0.9634316019209727\n",
      "Test Data Log Loss: 1.246319257760244\n"
     ]
    }
   ],
   "source": [
    "best_alpha=alpha[n.argmin(log_loss_array_OHE)]\n",
    "clf=SGDClassifier(alpha=best_alpha,loss='log',penalty='l2',random_state=50)\n",
    "clf.fit(OneHotEncoded_Gene_Train,y_train)\n",
    "\n",
    "cali_clf=CalibratedClassifierCV(clf,method='sigmoid')\n",
    "cali_clf.fit(OneHotEncoded_Gene_Train,y_train)\n",
    "\n",
    "predict_y_cv=cali_clf.predict_proba(OneHotEncoded_Gene_Train)\n",
    "print(\"Cross Validation Log Loss:\",log_loss(y_train,predict_y_cv,labels=clf.classes_,eps=1e-15))\n",
    "\n",
    "predict_y_test=cali_clf.predict_proba(OneHotEncoded_Gene_Test)\n",
    "print(\"Test Data Log Loss:\",log_loss(y_test,predict_y_test,labels=clf.classes_,eps=1e-15))"
   ]
  },
  {
   "cell_type": "code",
   "execution_count": 40,
   "metadata": {},
   "outputs": [],
   "source": [
    "#ref:\n",
    "#import pandas as pd   \n",
    "# making data frame from csv file \n",
    "#data = pd.read_csv(\"employees.csv\") \n",
    "# creating a bool series from isin() \n",
    "#new = data[\"Gender\"].isin([\"Male\"]) \n",
    "# displaying data with gender = male only \n",
    "# data[new] "
   ]
  },
  {
   "cell_type": "markdown",
   "metadata": {},
   "source": [
    "<p><b>NOTE:</b> We also need to check stability of given feature across train, test and CV. When we say stability, it is possible that train contains A,B,C as categorical values, and CV and Test has, D,E,F and G,H,I as categorical values. In that case our feature is not reliable as we dont know how many of the total category values are covered in test and CV.</p>"
   ]
  },
  {
   "cell_type": "code",
   "execution_count": 41,
   "metadata": {},
   "outputs": [
    {
     "name": "stdout",
     "output_type": "stream",
     "text": [
      "Out of  665  points in test data  637  are present in train.\n",
      "Out of  532  points in cv data  521  are present in train.\n"
     ]
    }
   ],
   "source": [
    "test_cov=X_test[X_test[\"Gene\"].isin(list(set(X_train[\"Gene\"])))].shape[0]\n",
    "cv_cov=X_cv[X_cv[\"Gene\"].isin(list(set(X_train[\"Gene\"])))].shape[0]\n",
    "\n",
    "print(\"Out of \",X_test.shape[0],\" points in test data \",test_cov,\" are present in train.\")\n",
    "print(\"Out of \",X_cv.shape[0], \" points in cv data \",cv_cov,\" are present in train.\")"
   ]
  },
  {
   "cell_type": "markdown",
   "metadata": {},
   "source": [
    "<li><b>CONCLUSION:</b> We can conclude that \"Gene\" feature is stable across all the data sets.</li>"
   ]
  },
  {
   "cell_type": "markdown",
   "metadata": {},
   "source": [
    "<h3> Variation Feature </h3>"
   ]
  },
  {
   "cell_type": "code",
   "execution_count": 42,
   "metadata": {},
   "outputs": [
    {
     "name": "stdout",
     "output_type": "stream",
     "text": [
      "Unique Variations or total categories in X_train: 1932\n",
      "Truncating Mutations         56\n",
      "Deletion                     48\n",
      "Amplification                43\n",
      "Fusions                      27\n",
      "G12V                          3\n",
      "Overexpression                2\n",
      "Promoter Hypermethylation     2\n",
      "T286A                         2\n",
      "Q61L                          2\n",
      "R841K                         2\n",
      "Name: Variation, dtype: int64\n"
     ]
    }
   ],
   "source": [
    "unique_genes=X_train['Variation'].value_counts()\n",
    "print(\"Unique Variations or total categories in X_train:\",unique_genes.shape[0])\n",
    "print(unique_genes.head(10))"
   ]
  },
  {
   "cell_type": "code",
   "execution_count": 43,
   "metadata": {},
   "outputs": [
    {
     "data": {
      "image/png": "[encoded data removed]",
      "text/plain": [
       "<Figure size 432x288 with 1 Axes>"
      ]
     },
     "metadata": {
      "needs_background": "light"
     },
     "output_type": "display_data"
    }
   ],
   "source": [
    "#PDF\n",
    "s=sum(unique_genes.values)\n",
    "h=unique_genes.values/s\n",
    "plt.plot(h,label=\"Histogram of Variations\")\n",
    "\n",
    "plt.xlabel(\"Index of Variations\")\n",
    "plt.ylabel(\"Number of Occurances\")\n",
    "plt.legend()\n",
    "plt.grid()\n",
    "plt.show()"
   ]
  },
  {
   "cell_type": "code",
   "execution_count": 44,
   "metadata": {},
   "outputs": [
    {
     "data": {
      "image/png": "[encoded data removed]",
      "text/plain": [
       "<Figure size 432x288 with 1 Axes>"
      ]
     },
     "metadata": {
      "needs_background": "light"
     },
     "output_type": "display_data"
    }
   ],
   "source": [
    "#CDF\n",
    "cd=n.cumsum(h)\n",
    "plt.plot(cd,label=\"Cumulative Distribution of Variation.\")\n",
    "plt.grid()\n",
    "plt.legend()\n",
    "plt.show()\n",
    "\n",
    "#We note that baring the first few variations, most of the variations occures only once or twice."
   ]
  },
  {
   "cell_type": "markdown",
   "metadata": {},
   "source": [
    "<h4>1. Response Coding</h4>"
   ]
  },
  {
   "cell_type": "code",
   "execution_count": 45,
   "metadata": {},
   "outputs": [
    {
     "name": "stdout",
     "output_type": "stream",
     "text": [
      "(2124, 9)\n",
      "(665, 9)\n",
      "(532, 9)\n"
     ]
    }
   ],
   "source": [
    "alpha=1 #Laplace smoothing parameter\n",
    "ResponseCoded_Var_Train=n.array(get_response_coded_features(alpha,\"Variation\",X_train))\n",
    "ResponseCoded_Var_Test=n.array(get_response_coded_features(alpha,\"Variation\",X_test))\n",
    "ResponseCoded_Var_CV=n.array(get_response_coded_features(alpha,\"Variation\",X_cv))\n",
    "print(ResponseCoded_Var_Train.shape)\n",
    "print(ResponseCoded_Var_Test.shape)\n",
    "print(ResponseCoded_Var_CV.shape)"
   ]
  },
  {
   "cell_type": "markdown",
   "metadata": {},
   "source": [
    "<h4>2. One Hot Encoding</h4>"
   ]
  },
  {
   "cell_type": "code",
   "execution_count": 46,
   "metadata": {},
   "outputs": [
    {
     "name": "stdout",
     "output_type": "stream",
     "text": [
      "(532, 1963)\n",
      "(2124, 1963)\n",
      "(665, 1963)\n"
     ]
    }
   ],
   "source": [
    "one_hot_encoding= CountVectorizer()\n",
    "OneHotEncoded_Var_Train=one_hot_encoding.fit_transform(X_train['Variation'])\n",
    "OneHotEncoded_Var_Test=one_hot_encoding.transform(X_test['Variation'])\n",
    "OneHotEncoded_Var_cv=one_hot_encoding.transform(X_cv['Variation'])\n",
    "print(OneHotEncoded_Var_cv.shape)\n",
    "print(OneHotEncoded_Var_Train.shape)\n",
    "print(OneHotEncoded_Var_Test.shape)"
   ]
  },
  {
   "cell_type": "code",
   "execution_count": 47,
   "metadata": {},
   "outputs": [
    {
     "name": "stdout",
     "output_type": "stream",
     "text": [
      "Alpha= 1e-06  Log Loss= 1.74864968039577\n",
      "Alpha= 1e-05  Log Loss= 1.7332945968551077\n",
      "Alpha= 0.0001  Log Loss= 1.7265275482094045\n",
      "Alpha= 0.001  Log Loss= 1.7314084825566054\n",
      "Alpha= 0.01  Log Loss= 1.7454735238524572\n",
      "Alpha= 0.1  Log Loss= 1.755308658412424\n",
      "Alpha= 1  Log Loss= 1.7549812001932288\n",
      "Alpha= 10  Log Loss= 1.7549248369753825\n"
     ]
    }
   ],
   "source": [
    "alpha=[10 ** x for x in range(-6,2)]\n",
    "\n",
    "log_loss_array_OHE=[] \n",
    "for i in alpha:\n",
    "    \n",
    "    clf=SGDClassifier(alpha=i,loss='log',random_state=50)\n",
    "    clf.fit(OneHotEncoded_Var_Train, y_train)\n",
    "    \n",
    "    cali_clf=CalibratedClassifierCV(clf,method='sigmoid')\n",
    "    cali_clf.fit(OneHotEncoded_Var_Train,y_train)\n",
    "    \n",
    "    predict_y_cv=cali_clf.predict_proba(OneHotEncoded_Var_cv)\n",
    "    #print(predict_y_cv)\n",
    "    log_loss_array_OHE.append(log_loss(y_cv,predict_y_cv, labels=clf.classes_,eps=1e-15))\n",
    "    print(\"Alpha=\",i,\" Log Loss=\",log_loss(y_cv,predict_y_cv, labels=clf.classes_,eps=1e-15))"
   ]
  },
  {
   "cell_type": "code",
   "execution_count": 48,
   "metadata": {},
   "outputs": [
    {
     "name": "stdout",
     "output_type": "stream",
     "text": [
      "Alpha= 1e-06  Log Loss= 2.137986824694005\n",
      "Alpha= 1e-05  Log Loss= 2.141508818156211\n",
      "Alpha= 0.0001  Log Loss= 2.0819964039316057\n",
      "Alpha= 0.001  Log Loss= 1.9653695388128456\n",
      "Alpha= 0.01  Log Loss= 1.9352247931519262\n",
      "Alpha= 0.1  Log Loss= 1.932310238138885\n",
      "Alpha= 1  Log Loss= 1.8277191836907771\n",
      "Alpha= 10  Log Loss= 1.79187458484076\n"
     ]
    }
   ],
   "source": [
    "log_loss_array_RC=[] \n",
    "for i in alpha:\n",
    "    \n",
    "    clf=SGDClassifier(alpha=i,loss='log',random_state=50)\n",
    "    clf.fit(ResponseCoded_Var_Train, y_train)\n",
    "    \n",
    "    cali_clf=CalibratedClassifierCV(clf,method='sigmoid')\n",
    "    cali_clf.fit(ResponseCoded_Var_Train,y_train)\n",
    "    \n",
    "    predict_y_cv=cali_clf.predict_proba(ResponseCoded_Var_CV)\n",
    "    #print(predict_y_cv)\n",
    "    log_loss_array_RC.append(log_loss(y_cv,predict_y_cv, labels=clf.classes_,eps=1e-15))\n",
    "    print(\"Alpha=\",i,\" Log Loss=\",log_loss(y_cv,predict_y_cv, labels=clf.classes_,eps=1e-15))"
   ]
  },
  {
   "cell_type": "code",
   "execution_count": 49,
   "metadata": {},
   "outputs": [
    {
     "name": "stdout",
     "output_type": "stream",
     "text": [
      "Cross Validation Log Loss: 0.6830022586706535\n",
      "Test Data Log Loss: 1.6785485206856534\n"
     ]
    }
   ],
   "source": [
    "best_alpha=alpha[n.argmin(log_loss_array_OHE)]\n",
    "clf=SGDClassifier(alpha=best_alpha,loss='log',penalty='l2',random_state=50)\n",
    "clf.fit(OneHotEncoded_Var_Train,y_train)\n",
    "\n",
    "cali_clf=CalibratedClassifierCV(clf,method='sigmoid')\n",
    "cali_clf.fit(OneHotEncoded_Var_Train,y_train)\n",
    "\n",
    "predict_y_cv=cali_clf.predict_proba(OneHotEncoded_Var_Train)\n",
    "print(\"Cross Validation Log Loss:\",log_loss(y_train,predict_y_cv,labels=clf.classes_,eps=1e-15))\n",
    "\n",
    "predict_y_test=cali_clf.predict_proba(OneHotEncoded_Var_Test)\n",
    "print(\"Test Data Log Loss:\",log_loss(y_test,predict_y_test,labels=clf.classes_,eps=1e-15))"
   ]
  },
  {
   "cell_type": "code",
   "execution_count": 50,
   "metadata": {},
   "outputs": [
    {
     "name": "stdout",
     "output_type": "stream",
     "text": [
      "Out of  665  points in test data  82  are present in train.\n",
      "Out of  532  points in cv data  43  are present in train.\n"
     ]
    }
   ],
   "source": [
    "test_cov=X_test[X_test[\"Variation\"].isin(list(set(X_train[\"Variation\"])))].shape[0]\n",
    "cv_cov=X_cv[X_cv[\"Variation\"].isin(list(set(X_train[\"Variation\"])))].shape[0]\n",
    "\n",
    "print(\"Out of \",X_test.shape[0],\" points in test data \",test_cov,\" are present in train.\")\n",
    "print(\"Out of \",X_cv.shape[0], \" points in cv data \",cv_cov,\" are present in train.\")"
   ]
  },
  {
   "cell_type": "markdown",
   "metadata": {},
   "source": [
    "<h3> Text Feature</h3>"
   ]
  },
  {
   "cell_type": "code",
   "execution_count": 51,
   "metadata": {},
   "outputs": [
    {
     "name": "stdout",
     "output_type": "stream",
     "text": [
      "2555    abstract brca1 gene individuals risk breast ov...\n",
      "761     assessed somatic alleles six receptor tyrosine...\n",
      "1633    map2k4 encodes dual specificity kinase mitogen...\n",
      "1185    pi3k pten akt signaling pathway pathway involv...\n",
      "2175    diffuse large b cell lymphoma dlbcl represents...\n",
      "                              ...                        \n",
      "79      generalizations emerge studies protein secreti...\n",
      "454     pediatric choroid plexus carcinomas cpc adreno...\n",
      "3139    numerous oncogenes implicated human cancer com...\n",
      "1259    abstract cancer specific mutations ish2 inter ...\n",
      "2986    purpose gastrointestinal stromal tumors gist c...\n",
      "Name: Text, Length: 2124, dtype: object\n"
     ]
    }
   ],
   "source": [
    "print(X_train['Text'])"
   ]
  },
  {
   "cell_type": "markdown",
   "metadata": {},
   "source": [
    "<li>We will use One Hot Encoding Coding to featurize 'Text' feature.</li>"
   ]
  },
  {
   "cell_type": "code",
   "execution_count": 52,
   "metadata": {},
   "outputs": [],
   "source": [
    "text_vectorizer=CountVectorizer(min_df=3)\n",
    "OneHotEncoded_Text_Train=text_vectorizer.fit_transform(X_train['Text'])\n",
    "OneHotEncoded_Text_Train=normalize(OneHotEncoded_Text_Train,axis=0)\n",
    "\n",
    "OneHotEncoded_Text_Test=text_vectorizer.transform(X_test['Text'])\n",
    "OneHotEncoded_Text_Test=normalize(OneHotEncoded_Text_Test,axis=0)\n",
    "\n",
    "OneHotEncoded_Text_CV=text_vectorizer.transform(X_cv['Text'])\n",
    "OneHotEncoded_Text_CV=normalize(OneHotEncoded_Text_CV,axis=0)"
   ]
  },
  {
   "cell_type": "code",
   "execution_count": 53,
   "metadata": {},
   "outputs": [
    {
     "name": "stdout",
     "output_type": "stream",
     "text": [
      "Alpha= 1e-06  Log Loss= 1.3475474561268121\n",
      "Alpha= 1e-05  Log Loss= 1.3296337747662166\n",
      "Alpha= 0.0001  Log Loss= 1.1770180741739436\n",
      "Alpha= 0.001  Log Loss= 1.193954223442031\n",
      "Alpha= 0.01  Log Loss= 1.3091374618055984\n",
      "Alpha= 0.1  Log Loss= 1.4541668024659082\n",
      "Alpha= 1  Log Loss= 1.6356882243085777\n",
      "Alpha= 10  Log Loss= 1.667700730358623\n"
     ]
    }
   ],
   "source": [
    "alpha=[10**x for x in range(-6,2)]\n",
    "\n",
    "log_loss_array_text=[]\n",
    "for i in alpha:\n",
    "    clf=SGDClassifier(alpha=i, loss='log',random_state=50)\n",
    "    clf.fit(OneHotEncoded_Text_Train,y_train)\n",
    "    \n",
    "    sig_clf=CalibratedClassifierCV(clf,method='sigmoid')\n",
    "    sig_clf.fit(OneHotEncoded_Text_Train,y_train)\n",
    "    \n",
    "    predict_y_cv=sig_clf.predict_proba(OneHotEncoded_Text_CV)\n",
    "    #print(predict_y_cv)\n",
    "    log_loss_array_text.append(log_loss(y_cv,predict_y_cv, labels=clf.classes_,eps=1e-15))\n",
    "    print(\"Alpha=\",i,\" Log Loss=\",log_loss(y_cv,predict_y_cv, labels=clf.classes_,eps=1e-15))"
   ]
  },
  {
   "cell_type": "code",
   "execution_count": 54,
   "metadata": {},
   "outputs": [
    {
     "name": "stdout",
     "output_type": "stream",
     "text": [
      "Cross Validation Log Loss: 1.1770180741739436\n",
      "Test Data Log Loss: 1.2372674627533526\n"
     ]
    }
   ],
   "source": [
    "best_alpha=alpha[n.argmin(log_loss_array_text)]\n",
    "clf=SGDClassifier(alpha=best_alpha,loss='log',penalty='l2',random_state=50)\n",
    "clf.fit(OneHotEncoded_Text_Train,y_train)\n",
    "\n",
    "sig_clf=CalibratedClassifierCV(clf,method='sigmoid')\n",
    "sig_clf.fit(OneHotEncoded_Text_Train,y_train)\n",
    "\n",
    "predict_y_cv=sig_clf.predict_proba(OneHotEncoded_Text_CV)\n",
    "print(\"Cross Validation Log Loss:\",log_loss(y_cv,predict_y_cv,labels=clf.classes_,eps=1e-15))\n",
    "\n",
    "predict_y_test=sig_clf.predict_proba(OneHotEncoded_Text_Test)\n",
    "print(\"Test Data Log Loss:\",log_loss(y_test,predict_y_test,labels=clf.classes_,eps=1e-15))\n"
   ]
  },
  {
   "cell_type": "code",
   "execution_count": 55,
   "metadata": {},
   "outputs": [],
   "source": [
    "#def ResponseCoding_Text(df):\n",
    "#    new_feature=n.zeros((df.shape[0],9))\n",
    "#    for i in range(0,9):\n",
    "#        row_index=0\n",
    "#        for index,row in df.iterrows():\n",
    "#            sum_prob=0\n",
    "#            for word in row['Text'].split():\n",
    "#                sum_prob+=math.log(((dict_list[i].get(word,0)+10/(total_dict.get(word,0)+90))))\n",
    "#            new_feature[row_index][i]=math.exp(sum_prob/len(row['Text'].split()))\n",
    "#            row_index+=1\n",
    "#    return new_feature        "
   ]
  },
  {
   "cell_type": "code",
   "execution_count": 56,
   "metadata": {},
   "outputs": [],
   "source": [
    "#ResponseCoded_Text_Train=ResponseCoding_Text(X_train)\n",
    "#ResponseCoded_Text_CV=ResponseCoding_Text(X_cv)\n",
    "#ResponseCoded_Text_Test=ResponseCoding_Text(X_test)"
   ]
  },
  {
   "cell_type": "markdown",
   "metadata": {},
   "source": [
    "<h2>4. Machine Learning Begins </h2>\n"
   ]
  },
  {
   "cell_type": "markdown",
   "metadata": {},
   "source": [
    "<p>First we create certain functions to compute log loss and confusion matrix with ease.</p>\n"
   ]
  },
  {
   "cell_type": "code",
   "execution_count": 57,
   "metadata": {},
   "outputs": [],
   "source": [
    "def log_loss_and_confusion_matrix(train_x,train_y,test_x,test_y,clf):\n",
    "    clf.fit(train_x,train_y)\n",
    "    sig_clf=CalibratedClassifierCV(clf,method='sigmoid')\n",
    "    sig_clf.fit(train_x,train_y)\n",
    "    pred_y=sig_clf.predict_proba(test_x)\n",
    "    \n",
    "    print(\"Log Loss:\",log_loss(test_y,pred_y))\n",
    "    print(\"Confusion Matrix\\n\",confusion_matrix(test_y,n.argmax(pred_y,axis=1)+1))\n",
    "    \n",
    "    #Attempt to find number misclassified points\n",
    "    t=confusion_matrix(test_y,n.argmax(pred_y,axis=1)+1)\n",
    "    print(n.sum(t))\n",
    "    print(n.trace(t))\n",
    "    print((n.sum(t)-n.trace(t))/n.sum(t))"
   ]
  },
  {
   "cell_type": "markdown",
   "metadata": {},
   "source": [
    "<p> Now we will attach three one hot encoded features into one feature so that we can pass them in our Machine learning models.</p>"
   ]
  },
  {
   "cell_type": "code",
   "execution_count": 58,
   "metadata": {},
   "outputs": [],
   "source": [
    "OneHot_Gene_Var_Train=hstack((OneHotEncoded_Gene_Train,OneHotEncoded_Var_Train))\n",
    "OneHot_Gene_Var_Test=hstack((OneHotEncoded_Gene_Test,OneHotEncoded_Var_Test))\n",
    "OneHot_Gene_Var_CV=hstack((OneHotEncoded_Gene_cv,OneHotEncoded_Var_cv))"
   ]
  },
  {
   "cell_type": "code",
   "execution_count": 59,
   "metadata": {},
   "outputs": [
    {
     "name": "stdout",
     "output_type": "stream",
     "text": [
      "(2124, 55970)\n",
      "(665, 55970)\n",
      "(532, 55970)\n"
     ]
    }
   ],
   "source": [
    "Train_X_OneHot=hstack((OneHot_Gene_Var_Train,OneHotEncoded_Text_Train))\n",
    "CV_X_OneHot=hstack((OneHot_Gene_Var_CV,OneHotEncoded_Text_CV))\n",
    "Test_X_OneHot=hstack((OneHot_Gene_Var_Test,OneHotEncoded_Text_Test))\n",
    "\n",
    "print(Train_X_OneHot.shape)\n",
    "print(Test_X_OneHot.shape)\n",
    "print(CV_X_OneHot.shape)\n",
    "\n",
    "Train_y=n.array(list(X_train['Class']))\n",
    "Test_y=n.array(list(X_test['Class']))\n",
    "CV_y=n.array(list(X_cv['Class']))"
   ]
  },
  {
   "cell_type": "markdown",
   "metadata": {},
   "source": [
    "<h3>4.1 Naive Bayes</h3>"
   ]
  },
  {
   "cell_type": "markdown",
   "metadata": {},
   "source": [
    "<p>This is kind of base model. It is Naive and it is used as a base model. Also Naive base is good for high dimensional data and one hot encoding produces very high dimensional data.</p>"
   ]
  },
  {
   "cell_type": "code",
   "execution_count": 60,
   "metadata": {},
   "outputs": [
    {
     "name": "stdout",
     "output_type": "stream",
     "text": [
      "Alpha: 1e-06 Log Loss: 1.2815972482439557\n",
      "Alpha: 1e-05 Log Loss: 1.2746516800218226\n",
      "Alpha: 0.0001 Log Loss: 1.2730382695346973\n",
      "Alpha: 0.001 Log Loss: 1.2719204302999185\n",
      "Alpha: 0.01 Log Loss: 1.272998967294054\n",
      "Alpha: 0.1 Log Loss: 1.2768045134321018\n",
      "Alpha: 1 Log Loss: 1.2946296487920248\n",
      "Alpha: 10 Log Loss: 1.4191157704755208\n"
     ]
    }
   ],
   "source": [
    "alpha=[10**x for x in range(-6,2)]\n",
    "log_loss_array_NB=[]\n",
    "for i in alpha:\n",
    "    clf=MultinomialNB(alpha=i)\n",
    "    clf.fit(Train_X_OneHot,Train_y)\n",
    "    \n",
    "    cali_clf=CalibratedClassifierCV(clf,method='sigmoid')\n",
    "    cali_clf.fit(Train_X_OneHot,Train_y)\n",
    "    \n",
    "    CV_pred_proba=cali_clf.predict_proba(CV_X_OneHot)\n",
    "    log_loss_array_NB.append(log_loss(CV_y,CV_pred_proba,labels=clf.classes_,eps=1e-15))\n",
    "    print(\"Alpha:\",i,\"Log Loss:\",log_loss(CV_y,CV_pred_proba))\n",
    "    "
   ]
  },
  {
   "cell_type": "code",
   "execution_count": 61,
   "metadata": {},
   "outputs": [
    {
     "data": {
      "text/plain": [
       "[<matplotlib.lines.Line2D at 0x7ff6eb0583a0>]"
      ]
     },
     "execution_count": 61,
     "metadata": {},
     "output_type": "execute_result"
    },
    {
     "data": {
      "image/png": "[encoded data removed]",
      "text/plain": [
       "<Figure size 432x288 with 1 Axes>"
      ]
     },
     "metadata": {
      "needs_background": "light"
     },
     "output_type": "display_data"
    }
   ],
   "source": [
    "plt.plot(log_loss_array_NB)"
   ]
  },
  {
   "cell_type": "code",
   "execution_count": 62,
   "metadata": {},
   "outputs": [
    {
     "name": "stdout",
     "output_type": "stream",
     "text": [
      "Train log loss: 0.7989717498085777\n",
      "CV log loss: 1.2719204302999185\n",
      "Test log loss: 1.3246446423330631\n",
      "Log Loss: 1.3246446423330631\n",
      "Confusion Matrix\n",
      " [[ 67   1   1  12  17   1  15   0   0]\n",
      " [  3  31   0   1   2   1  53   0   0]\n",
      " [  2   0   9   4   1   1   1   0   0]\n",
      " [ 30   1   5  73  11   1  16   0   0]\n",
      " [  7   1   1   3  23   4   8   0   1]\n",
      " [  2   6   0   2   3  34   8   0   0]\n",
      " [  2  33  11   1   2   1 141   0   0]\n",
      " [  0   0   0   0   0   0   4   0   0]\n",
      " [  0   0   0   0   0   0   0   0   7]]\n",
      "665\n",
      "385\n",
      "0.42105263157894735\n"
     ]
    }
   ],
   "source": [
    "best_alpha_NB=alpha[n.argmin(log_loss_array_NB)]\n",
    "clf=MultinomialNB(alpha=best_alpha_NB)\n",
    "clf.fit(Train_X_OneHot,Train_y)\n",
    "\n",
    "cali_clf=CalibratedClassifierCV(clf,method='sigmoid')\n",
    "cali_clf.fit(Train_X_OneHot,Train_y)\n",
    "\n",
    "predict_Train=cali_clf.predict_proba(Train_X_OneHot)\n",
    "predict_CV=cali_clf.predict_proba(CV_X_OneHot)\n",
    "predict_Test=cali_clf.predict_proba(Test_X_OneHot)\n",
    "\n",
    "print(\"Train log loss:\",log_loss(Train_y,predict_Train,labels=clf.classes_,eps=1e-15))\n",
    "print(\"CV log loss:\",log_loss(CV_y,predict_CV,labels=clf.classes_,eps=1e-15))\n",
    "print(\"Test log loss:\",log_loss(Test_y,predict_Test,labels=clf.classes_,eps=1e-15))\n",
    "\n",
    "log_loss_and_confusion_matrix(Train_X_OneHot,Train_y,Test_X_OneHot,Test_y,clf)\n"
   ]
  },
  {
   "cell_type": "code",
   "execution_count": 63,
   "metadata": {},
   "outputs": [],
   "source": [
    "#code from stackoverflow for finding feature importance. needs review didnt work last time. 1 march 2021.\n",
    "#neg_class_prob_sorted = NB_optimal.feature_log_prob_[0, :].argsort()\n",
    "#pos_class_prob_sorted = NB_optimal.feature_log_prob_[1, :].argsort()\n",
    "\n",
    "#print(np.take(count_vect.get_feature_names(), neg_class_prob_sorted[:10]))\n",
    "#print(np.take(count_vect.get_feature_names(), pos_class_prob_sorted[:10]))"
   ]
  },
  {
   "cell_type": "markdown",
   "metadata": {},
   "source": [
    "<h3>4.2 KNN</h3>"
   ]
  },
  {
   "cell_type": "markdown",
   "metadata": {},
   "source": [
    "KNN has the issue of curse of dimensionality. So one hot coding doesnt work here. We need response coding but we dont know how to handle it with text data. One way of handling is converting to word2vec but we will explore it later. so do remove knn later."
   ]
  },
  {
   "cell_type": "code",
   "execution_count": 64,
   "metadata": {},
   "outputs": [
    {
     "name": "stdout",
     "output_type": "stream",
     "text": [
      "Alpha: 1  Log Loss: 1.2951645266782763\n",
      "Alpha: 2  Log Loss: 1.2215625704297002\n",
      "Alpha: 7  Log Loss: 1.2415808181956307\n",
      "Alpha: 11  Log Loss: 1.270643733824686\n",
      "Alpha: 19  Log Loss: 1.3582486604586306\n",
      "Alpha: 25  Log Loss: 1.397219192467266\n",
      "Alpha: 50  Log Loss: 1.3732020198357513\n",
      "Alpha: 73  Log Loss: 1.3595321186628833\n",
      "Alpha: 100  Log Loss: 1.3319287475579409\n"
     ]
    }
   ],
   "source": [
    "alpha=[1,2,7,11,19,25,50,73,100]\n",
    "log_loss_KNN=[]\n",
    "\n",
    "for i in alpha:\n",
    "    clf=KNeighborsClassifier(n_neighbors=i)\n",
    "    clf.fit(Train_X_OneHot,Train_y)\n",
    "    \n",
    "    cali_clf=CalibratedClassifierCV(clf,method='sigmoid')\n",
    "    cali_clf.fit(Train_X_OneHot,Train_y)\n",
    "    \n",
    "    CV_predict=cali_clf.predict_proba(CV_X_OneHot)\n",
    "    log_loss_KNN.append(log_loss(CV_y,CV_predict,labels=clf.classes_,eps=1e-15))\n",
    "    print(\"Alpha:\",i,\" Log Loss:\",log_loss(CV_y,CV_predict,labels=clf.classes_,eps=1e-15))"
   ]
  },
  {
   "cell_type": "markdown",
   "metadata": {},
   "source": [
    "<h3>4.3 Logistic Regression</h3>"
   ]
  },
  {
   "cell_type": "markdown",
   "metadata": {},
   "source": [
    "LR works well with high dimensional data since with many dimensions it is easier to find a hyperplane that will separate our various classes.\n",
    "We will do LR with class balancing and without class balancing.\n",
    "<h4>4.3.1 With Class Balancing </h4>"
   ]
  },
  {
   "cell_type": "code",
   "execution_count": 65,
   "metadata": {},
   "outputs": [
    {
     "name": "stdout",
     "output_type": "stream",
     "text": [
      "Alpha: 1e-06  Log Loss: 1.3563805713338557\n",
      "Alpha: 1e-05  Log Loss: 1.3220652627457672\n",
      "Alpha: 0.0001  Log Loss: 1.1469171632674466\n",
      "Alpha: 0.001  Log Loss: 1.1253448904791705\n",
      "Alpha: 0.01  Log Loss: 1.1815400340297437\n",
      "Alpha: 0.1  Log Loss: 1.4559296034827833\n",
      "Alpha: 1  Log Loss: 1.7020894726052571\n",
      "Alpha: 10  Log Loss: 1.7308410435961976\n"
     ]
    }
   ],
   "source": [
    "alpha=[10**x for x in range(-6,2)]\n",
    "log_loss_array=[]\n",
    "\n",
    "for i in alpha:\n",
    "    clf=SGDClassifier(loss='log',penalty='l2',alpha=i,class_weight='balanced',random_state=50)\n",
    "    clf.fit(Train_X_OneHot,Train_y)\n",
    "    \n",
    "    cali_clf=CalibratedClassifierCV(clf,method='sigmoid')\n",
    "    cali_clf.fit(Train_X_OneHot,Train_y)\n",
    "    \n",
    "    pred_cv=cali_clf.predict_proba(CV_X_OneHot)\n",
    "    log_loss_array.append(log_loss(CV_y,pred_cv,labels=clf.classes_,eps=1e-15))\n",
    "    print(\"Alpha:\",i,\" Log Loss:\",log_loss(CV_y,pred_cv,labels=clf.classes_,eps=1e-15))\n",
    "    "
   ]
  },
  {
   "cell_type": "code",
   "execution_count": 66,
   "metadata": {},
   "outputs": [
    {
     "name": "stdout",
     "output_type": "stream",
     "text": [
      "Train-> Alpha: 0.001  Log Loss: 0.4947891931796721\n",
      "CV-> Alpha: 0.001  Log Loss: 1.1253448904791705\n",
      "Test-> Alpha: 0.001  Log Loss: 1.1307296430217082\n"
     ]
    }
   ],
   "source": [
    "best_alpha=n.argmin(log_loss_array)\n",
    "clf=SGDClassifier(class_weight='balanced',penalty='l2',alpha=alpha[best_alpha],loss='log',random_state=50)\n",
    "clf.fit(Train_X_OneHot,Train_y)\n",
    "\n",
    "cali_clf=CalibratedClassifierCV(clf,method='sigmoid')\n",
    "cali_clf.fit(Train_X_OneHot,Train_y)\n",
    "\n",
    "predict_train=cali_clf.predict_proba(Train_X_OneHot)\n",
    "print(\"Train-> Alpha:\",alpha[best_alpha],\" Log Loss:\",log_loss(Train_y,predict_train,labels=clf.classes_,eps=1e-15))\n",
    "\n",
    "predict_cv=cali_clf.predict_proba(CV_X_OneHot)\n",
    "print(\"CV-> Alpha:\",alpha[best_alpha],\" Log Loss:\",log_loss(CV_y,predict_cv,labels=clf.classes_,eps=1e-15))\n",
    "\n",
    "predict_test=cali_clf.predict_proba(Test_X_OneHot)\n",
    "print(\"Test-> Alpha:\",alpha[best_alpha],\" Log Loss:\",log_loss(Test_y,predict_test,labels=clf.classes_,eps=1e-15))"
   ]
  },
  {
   "cell_type": "code",
   "execution_count": 67,
   "metadata": {},
   "outputs": [
    {
     "name": "stdout",
     "output_type": "stream",
     "text": [
      "Log Loss: 1.1307296430217082\n",
      "Confusion Matrix\n",
      " [[ 78   1   0  17   6   3   9   0   0]\n",
      " [  2  30   0   1   0   1  57   0   0]\n",
      " [  2   0   5   6   1   0   4   0   0]\n",
      " [ 20   0   3  90   8   0  16   0   0]\n",
      " [ 12   0   1   6  16   3  10   0   0]\n",
      " [  3   3   0   3   2  32  12   0   0]\n",
      " [  3  18   3   1   4   1 161   0   0]\n",
      " [  0   0   0   0   0   0   2   2   0]\n",
      " [  0   0   0   1   0   0   1   0   5]]\n",
      "665\n",
      "419\n",
      "0.3699248120300752\n"
     ]
    }
   ],
   "source": [
    "log_loss_and_confusion_matrix(Train_X_OneHot,Train_y,Test_X_OneHot,Test_y,clf)"
   ]
  },
  {
   "cell_type": "markdown",
   "metadata": {},
   "source": [
    "<h4>4.3.2 Without Class Balancing </h4>"
   ]
  },
  {
   "cell_type": "code",
   "execution_count": 68,
   "metadata": {},
   "outputs": [
    {
     "name": "stdout",
     "output_type": "stream",
     "text": [
      "Alpha: 1e-06  Log Loss: 1.316332123890089\n",
      "Alpha: 1e-05  Log Loss: 1.2835245186089155\n",
      "Alpha: 0.0001  Log Loss: 1.163096245262511\n",
      "Alpha: 0.001  Log Loss: 1.152792821743201\n",
      "Alpha: 0.01  Log Loss: 1.2511580060124543\n",
      "Alpha: 0.1  Log Loss: 1.3788580039133487\n",
      "Alpha: 1  Log Loss: 1.5743872900043192\n",
      "Alpha: 10  Log Loss: 1.615078394053829\n"
     ]
    }
   ],
   "source": [
    "alpha=[10**x for x in range(-6,2)]\n",
    "log_loss_array=[]\n",
    "\n",
    "for i in alpha:\n",
    "    clf=SGDClassifier(loss='log',penalty='l2',alpha=i,random_state=50)\n",
    "    clf.fit(Train_X_OneHot,Train_y)\n",
    "    \n",
    "    cali_clf=CalibratedClassifierCV(clf,method='sigmoid')\n",
    "    cali_clf.fit(Train_X_OneHot,Train_y)\n",
    "    \n",
    "    pred_cv=cali_clf.predict_proba(CV_X_OneHot)\n",
    "    log_loss_array.append(log_loss(CV_y,pred_cv,labels=clf.classes_,eps=1e-15))\n",
    "    print(\"Alpha:\",i,\" Log Loss:\",log_loss(CV_y,pred_cv,labels=clf.classes_,eps=1e-15))\n",
    "    "
   ]
  },
  {
   "cell_type": "code",
   "execution_count": 69,
   "metadata": {},
   "outputs": [
    {
     "name": "stdout",
     "output_type": "stream",
     "text": [
      "Train-> Alpha: 0.001  Log Loss: 0.4947697666278806\n",
      "CV-> Alpha: 0.001  Log Loss: 1.152792821743201\n",
      "Test-> Alpha: 0.001  Log Loss: 1.1425394837592497\n"
     ]
    }
   ],
   "source": [
    "best_alpha=n.argmin(log_loss_array)\n",
    "clf=SGDClassifier(penalty='l2',alpha=alpha[best_alpha],loss='log',random_state=50)\n",
    "clf.fit(Train_X_OneHot,Train_y)\n",
    "\n",
    "cali_clf=CalibratedClassifierCV(clf,method='sigmoid')\n",
    "cali_clf.fit(Train_X_OneHot,Train_y)\n",
    "\n",
    "predict_train=cali_clf.predict_proba(Train_X_OneHot)\n",
    "print(\"Train-> Alpha:\",alpha[best_alpha],\" Log Loss:\",log_loss(Train_y,predict_train,labels=clf.classes_,eps=1e-15))\n",
    "\n",
    "predict_cv=cali_clf.predict_proba(CV_X_OneHot)\n",
    "print(\"CV-> Alpha:\",alpha[best_alpha],\" Log Loss:\",log_loss(CV_y,predict_cv,labels=clf.classes_,eps=1e-15))\n",
    "\n",
    "predict_test=cali_clf.predict_proba(Test_X_OneHot)\n",
    "print(\"Test-> Alpha:\",alpha[best_alpha],\" Log Loss:\",log_loss(Test_y,predict_test,labels=clf.classes_,eps=1e-15))"
   ]
  },
  {
   "cell_type": "code",
   "execution_count": 70,
   "metadata": {},
   "outputs": [
    {
     "name": "stdout",
     "output_type": "stream",
     "text": [
      "Log Loss: 1.1425394837592497\n",
      "Confusion Matrix\n",
      " [[ 78   1   0  19   6   1   9   0   0]\n",
      " [  3  31   0   1   0   1  55   0   0]\n",
      " [  2   0   5   6   1   0   4   0   0]\n",
      " [ 21   0   0  94   6   0  16   0   0]\n",
      " [ 12   0   1   6  16   4   9   0   0]\n",
      " [  3   3   0   6   2  29  12   0   0]\n",
      " [  3  16   0   1   2   1 168   0   0]\n",
      " [  0   0   0   0   0   0   2   1   1]\n",
      " [  0   0   0   1   0   0   1   0   5]]\n",
      "665\n",
      "427\n",
      "0.35789473684210527\n"
     ]
    }
   ],
   "source": [
    "log_loss_and_confusion_matrix(Train_X_OneHot,Train_y,Test_X_OneHot,Test_y,clf)"
   ]
  },
  {
   "cell_type": "markdown",
   "metadata": {},
   "source": [
    "Note: Advantage with class balancing is that less valued classes are better represented. (read more about it.)"
   ]
  },
  {
   "cell_type": "markdown",
   "metadata": {},
   "source": [
    "<h3>4.4 SVM</h3>"
   ]
  },
  {
   "cell_type": "markdown",
   "metadata": {},
   "source": [
    "<p>We will be using linear SVM instead of RBF SVM for two reason. First, we dont know which kernal to use. Second, for high dimensional data linear SVM works really well. SVM uses 'hinge' loss instead of 'log loss'. Also linear SVM also has feature importance. In RBF SVM we cannot find feature importance. </p>"
   ]
  },
  {
   "cell_type": "code",
   "execution_count": 71,
   "metadata": {},
   "outputs": [
    {
     "name": "stdout",
     "output_type": "stream",
     "text": [
      "Alpha: 1e-06  Log Loss: 1.3424108108120854\n",
      "Alpha: 1e-05  Log Loss: 1.3271072082917525\n",
      "Alpha: 0.0001  Log Loss: 1.252206665489337\n",
      "Alpha: 0.001  Log Loss: 1.1644389737145657\n",
      "Alpha: 0.01  Log Loss: 1.1775699440338925\n",
      "Alpha: 0.1  Log Loss: 1.3708314253049714\n",
      "Alpha: 1  Log Loss: 1.7217294976864366\n",
      "Alpha: 10  Log Loss: 1.7342924725547872\n"
     ]
    }
   ],
   "source": [
    "alpha=[10**x for x in range(-6,2)]\n",
    "log_loss_SVM=[]\n",
    "\n",
    "for i in alpha:\n",
    "    clf=SGDClassifier(class_weight='balanced',alpha=i,loss='hinge',penalty='l2',random_state=50)\n",
    "    clf.fit(Train_X_OneHot,Train_y)\n",
    "    \n",
    "    cali_clf=CalibratedClassifierCV(clf,method='sigmoid')\n",
    "    cali_clf.fit(Train_X_OneHot,Train_y)\n",
    "    \n",
    "    predict_cv=cali_clf.predict_proba(CV_X_OneHot)\n",
    "    log_loss_SVM.append(log_loss(CV_y,predict_cv,labels=clf.classes_,eps=1e-15))\n",
    "    print(\"Alpha:\",i,\" Log Loss:\",log_loss(CV_y,predict_cv,labels=clf.classes_,eps=1e-15))"
   ]
  },
  {
   "cell_type": "code",
   "execution_count": 72,
   "metadata": {},
   "outputs": [
    {
     "name": "stdout",
     "output_type": "stream",
     "text": [
      "Train-> Alpha: 1e-06  Log Loss: 0.830206793052197\n",
      "CV-> Alpha: 1e-06  Log Loss: 1.3424108108120854\n",
      "Test->Alpha: 1e-06  Log Loss: 1.3234698845720225\n"
     ]
    }
   ],
   "source": [
    "best_alpha=n.argmin(alpha)\n",
    "\n",
    "clf=SGDClassifier(class_weight='balanced',alpha=alpha[best_alpha],loss='hinge',penalty='l2',random_state=50)\n",
    "clf.fit(Train_X_OneHot,Train_y)\n",
    "\n",
    "cali_clf=CalibratedClassifierCV(clf,method='sigmoid')\n",
    "cali_clf.fit(Train_X_OneHot,Train_y)\n",
    "\n",
    "predict_train=cali_clf.predict_proba(Train_X_OneHot)\n",
    "print(\"Train-> Alpha:\",alpha[best_alpha],\" Log Loss:\",log_loss(Train_y,predict_train,labels=clf.classes_,eps=1e-15))\n",
    "\n",
    "predict_cv=cali_clf.predict_proba(CV_X_OneHot)\n",
    "print(\"CV-> Alpha:\",alpha[best_alpha],\" Log Loss:\",log_loss(CV_y,predict_cv,labels=clf.classes_,eps=1e-15))\n",
    "\n",
    "predict_test=cali_clf.predict_proba(Test_X_OneHot)\n",
    "print(\"Test->Alpha:\",alpha[best_alpha],\" Log Loss:\",log_loss(Test_y,predict_test,labels=clf.classes_,eps=1e-15))"
   ]
  },
  {
   "cell_type": "code",
   "execution_count": 73,
   "metadata": {},
   "outputs": [
    {
     "name": "stdout",
     "output_type": "stream",
     "text": [
      "Log Loss: 1.3234698845720225\n",
      "Confusion Matrix\n",
      " [[ 76   1   0  20   5   1  11   0   0]\n",
      " [  2  27   0   2   0   1  59   0   0]\n",
      " [  1   0   1   8   1   0   7   0   0]\n",
      " [ 24   1   0  87   6   1  18   0   0]\n",
      " [  8   1   0  11  12   3  13   0   0]\n",
      " [  5   3   0   5   8  21  13   0   0]\n",
      " [  3  16   0   2   0   1 169   0   0]\n",
      " [  0   0   0   1   0   0   1   2   0]\n",
      " [  0   0   0   0   0   0   3   0   4]]\n",
      "665\n",
      "399\n",
      "0.4\n"
     ]
    }
   ],
   "source": [
    "log_loss_and_confusion_matrix(Train_X_OneHot,Train_y,Test_X_OneHot,Test_y,clf)"
   ]
  },
  {
   "cell_type": "markdown",
   "metadata": {},
   "source": [
    "<h3> 4.5 Random Forest </h3>\n",
    "<p>Random forest is an ensemble model, bootstrapped aggregation, with Decision trees as base model. DT works well with less dimensional data. But we will try one hot encoding on RF.\n",
    "Read about random forest in yellow notebook. It has two variables, n_estimators(number of decision trees in forest), and max_depth( the allowed depth of trees). So we will have to run nested for loops for both the variables.</p>"
   ]
  },
  {
   "cell_type": "code",
   "execution_count": 74,
   "metadata": {},
   "outputs": [
    {
     "name": "stdout",
     "output_type": "stream",
     "text": [
      "Alpha: 50  Max_Depth: 5 Log Loss: 1.2540341570164795\n",
      "Alpha: 50  Max_Depth: 10 Log Loss: 1.1989548857988428\n",
      "Alpha: 100  Max_Depth: 5 Log Loss: 1.2494366364003127\n",
      "Alpha: 100  Max_Depth: 10 Log Loss: 1.1862331197225295\n",
      "Alpha: 200  Max_Depth: 5 Log Loss: 1.2461400824792974\n",
      "Alpha: 200  Max_Depth: 10 Log Loss: 1.1784301030348374\n",
      "Alpha: 500  Max_Depth: 5 Log Loss: 1.2435161981695229\n",
      "Alpha: 500  Max_Depth: 10 Log Loss: 1.1712576146894316\n",
      "Alpha: 1000  Max_Depth: 5 Log Loss: 1.238324931011752\n",
      "Alpha: 1000  Max_Depth: 10 Log Loss: 1.167715844096492\n",
      "Alpha: 2000  Max_Depth: 5 Log Loss: 1.2395684864481384\n",
      "Alpha: 2000  Max_Depth: 10 Log Loss: 1.168791430600463\n"
     ]
    }
   ],
   "source": [
    "alpha=[50,100,200,500,1000,2000]\n",
    "max_depth=[5,10]\n",
    "rf_log_loss_array=[]\n",
    "\n",
    "for i in alpha:\n",
    "    for j in max_depth:\n",
    "        clf=RandomForestClassifier(n_estimators=i,criterion='gini',max_depth=j,random_state=42,n_jobs=-1)\n",
    "        clf.fit(Train_X_OneHot,Train_y)\n",
    "        \n",
    "        cali_clf=CalibratedClassifierCV(clf,method=\"sigmoid\")\n",
    "        cali_clf.fit(Train_X_OneHot,Train_y)\n",
    "        \n",
    "        predict_cv=cali_clf.predict_proba(CV_X_OneHot)\n",
    "        rf_log_loss_array.append(log_loss(CV_y,predict_cv,labels=clf.classes_,eps=1e-15))\n",
    "        print(\"Alpha:\",i,\" Max_Depth:\",j,\"Log Loss:\",log_loss(CV_y,predict_cv,labels=clf.classes_,eps=1e-15))"
   ]
  },
  {
   "cell_type": "code",
   "execution_count": 75,
   "metadata": {},
   "outputs": [
    {
     "name": "stdout",
     "output_type": "stream",
     "text": [
      "For alpha: 1000  Max_depth: 10  Log Loss Train: 0.6613838300312369\n",
      "For alpha: 1000  Max_depth: 10  Log Loss CV: 1.1686593574033843\n",
      "For alpha: 1000  Max_depth: 10  Log Loss Test: 1.1489383201322565\n"
     ]
    }
   ],
   "source": [
    "best_alpha=n.argmin(rf_log_loss_array)\n",
    "clf=RandomForestClassifier(n_estimators=alpha[int(best_alpha/2)],criterion='gini',max_depth=max_depth[int(best_alpha%2)],random_state=50,n_jobs=-1)\n",
    "clf.fit(Train_X_OneHot,Train_y)\n",
    "\n",
    "cali_clf=CalibratedClassifierCV(clf,method='sigmoid')\n",
    "cali_clf.fit(Train_X_OneHot,Train_y)\n",
    "\n",
    "predict_train=cali_clf.predict_proba(Train_X_OneHot)\n",
    "predict_cv=cali_clf.predict_proba(CV_X_OneHot)\n",
    "predict_test=cali_clf.predict_proba(Test_X_OneHot)\n",
    "\n",
    "print(\"For alpha:\",alpha[int(best_alpha/2)],\" Max_depth:\",max_depth[int(best_alpha%2)],\" Log Loss Train:\",log_loss(Train_y,predict_train,labels=clf.classes_,eps=1e-15))\n",
    "print(\"For alpha:\",alpha[int(best_alpha/2)],\" Max_depth:\",max_depth[int(best_alpha%2)],\" Log Loss CV:\",log_loss(CV_y,predict_cv,labels=clf.classes_,eps=1e-15))\n",
    "print(\"For alpha:\",alpha[int(best_alpha/2)],\" Max_depth:\",max_depth[int(best_alpha%2)],\" Log Loss Test:\",log_loss(Test_y,predict_test,labels=clf.classes_,eps=1e-15))\n"
   ]
  },
  {
   "cell_type": "code",
   "execution_count": null,
   "metadata": {},
   "outputs": [],
   "source": []
  }
 ],
 "metadata": {
  "kernelspec": {
   "display_name": "Python 3",
   "language": "python",
   "name": "python3"
  },
  "language_info": {
   "codemirror_mode": {
    "name": "ipython",
    "version": 3
   },
   "file_extension": ".py",
   "mimetype": "text/x-python",
   "name": "python",
   "nbconvert_exporter": "python",
   "pygments_lexer": "ipython3",
   "version": "3.8.8"
  }
 },
 "nbformat": 4,
 "nbformat_minor": 4
}
